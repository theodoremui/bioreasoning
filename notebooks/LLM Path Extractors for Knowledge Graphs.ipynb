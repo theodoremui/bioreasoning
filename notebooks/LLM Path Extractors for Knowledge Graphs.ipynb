{
 "cells": [
  {
   "cell_type": "markdown",
   "id": "5f3ff3b2",
   "metadata": {},
   "source": [
    "# LLM Path Extractors for Knowledge Graph Construction\n",
    "\n",
    "Source:\n",
    "\n",
    "- [llamaindex](https://docs.llamaindex.ai/en/latest/examples/property_graph/Dynamic_KG_Extraction/?h=comparing)\n"
   ]
  },
  {
   "cell_type": "markdown",
   "id": "c81ee696",
   "metadata": {},
   "source": [
    "In this notebook, we'll compare three different LLM Path Extractors from llama_index:\n",
    "\n",
    "- SimpleLLMPathExtractor\n",
    "- SchemaLLMPathExtractor\n",
    "- DynamicLLMPathExtractor\n",
    "\n",
    "We'll use a Wikipedia page as our test data and visualize the resulting knowledge graphs using Pyvis.\n"
   ]
  },
  {
   "cell_type": "markdown",
   "id": "a87a26c8",
   "metadata": {},
   "source": [
    "## 1. Setup\n"
   ]
  },
  {
   "cell_type": "code",
   "execution_count": 1,
   "id": "3595b905",
   "metadata": {},
   "outputs": [],
   "source": [
    "from llama_index.core import Document, PropertyGraphIndex\n",
    "from llama_index.core.indices.property_graph import (\n",
    "    SimpleLLMPathExtractor,\n",
    "    SchemaLLMPathExtractor,\n",
    "    DynamicLLMPathExtractor,\n",
    ")\n",
    "from llama_index.llms.openai import OpenAI\n",
    "from llama_index.core import Settings\n",
    "\n",
    "import wikipedia\n",
    "\n",
    "import os"
   ]
  },
  {
   "cell_type": "code",
   "execution_count": 2,
   "id": "fa91ff65",
   "metadata": {},
   "outputs": [],
   "source": [
    "import nest_asyncio\n",
    "\n",
    "nest_asyncio.apply()"
   ]
  },
  {
   "cell_type": "code",
   "execution_count": 25,
   "id": "8c0f743e",
   "metadata": {},
   "outputs": [],
   "source": [
    "from dotenv import load_dotenv, find_dotenv\n",
    "\n",
    "load_dotenv(find_dotenv())\n",
    "\n",
    "# Set up global configurations\n",
    "llm = OpenAI(temperature=0.0, model=\"gpt-4.1-nano\")\n",
    "\n",
    "Settings.llm = llm\n",
    "Settings.chunk_size = 2048\n",
    "Settings.chunk_overlap = 20"
   ]
  },
  {
   "cell_type": "markdown",
   "id": "989904bc",
   "metadata": {},
   "source": [
    "## 2. Fetch Some Raw Text from Wikipedia¶\n"
   ]
  },
  {
   "cell_type": "code",
   "execution_count": 4,
   "id": "18cf7f28",
   "metadata": {},
   "outputs": [],
   "source": [
    "def get_wikipedia_content(title):\n",
    "    try:\n",
    "        page = wikipedia.page(title)\n",
    "        return page.content\n",
    "    except wikipedia.exceptions.DisambiguationError as e:\n",
    "        print(f\"Disambiguation page. Options: {e.options}\")\n",
    "    except wikipedia.exceptions.PageError:\n",
    "        print(f\"Page '{title}' does not exist.\")\n",
    "    return None"
   ]
  },
  {
   "cell_type": "code",
   "execution_count": 28,
   "id": "6e86c17e",
   "metadata": {},
   "outputs": [
    {
     "name": "stdout",
     "output_type": "stream",
     "text": [
      "Fetched content for 'Barack Obama' (length: 85216 characters)\n"
     ]
    }
   ],
   "source": [
    "wiki_title = \"Barack Obama\"\n",
    "content = get_wikipedia_content(wiki_title)\n",
    "\n",
    "if content:\n",
    "    document = Document(text=content, metadata={\"title\": wiki_title})\n",
    "    print(\n",
    "        f\"Fetched content for '{wiki_title}' (length: {len(content)} characters)\"\n",
    "    )\n",
    "else:\n",
    "    print(\"Failed to fetch Wikipedia content.\")"
   ]
  },
  {
   "cell_type": "markdown",
   "id": "53dafc87",
   "metadata": {},
   "source": [
    "## 2. SimpleLLMPathExtractor\n"
   ]
  },
  {
   "cell_type": "code",
   "execution_count": 29,
   "id": "63f7e4cf",
   "metadata": {},
   "outputs": [
    {
     "name": "stderr",
     "output_type": "stream",
     "text": [
      "Parsing nodes: 100%|██████████| 1/1 [00:00<00:00, 66.84it/s]\n",
      "Extracting paths from text: 100%|██████████| 11/11 [00:07<00:00,  1.55it/s]\n"
     ]
    }
   ],
   "source": [
    "kg_extractor = SimpleLLMPathExtractor(\n",
    "    llm=llm, max_paths_per_chunk=20, num_workers=4\n",
    ")\n",
    "\n",
    "simple_index = PropertyGraphIndex.from_documents(\n",
    "    [document],\n",
    "    llm=llm,\n",
    "    embed_kg_nodes=False,\n",
    "    kg_extractors=[kg_extractor],\n",
    "    show_progress=True,\n",
    ")\n",
    "\n",
    "simple_index.property_graph_store.save_networkx_graph(\n",
    "    name=\"./SimpleGraph.html\"\n",
    ")"
   ]
  },
  {
   "cell_type": "code",
   "execution_count": 30,
   "id": "285b307b",
   "metadata": {},
   "outputs": [
    {
     "data": {
      "text/plain": [
       "[(EntityNode(label='entity', embedding=None, properties={'title': 'Barack Obama', 'triplet_source_id': '70afd867-ef2f-4719-b2f8-8366537dd566'}, name='Obama'),\n",
       "  Relation(label='Began presidency with', source_id='Obama', target_id='68 percent approval rating', properties={'title': 'Barack Obama', 'triplet_source_id': '70afd867-ef2f-4719-b2f8-8366537dd566'}),\n",
       "  EntityNode(label='entity', embedding=None, properties={'title': 'Barack Obama', 'triplet_source_id': '70afd867-ef2f-4719-b2f8-8366537dd566'}, name='68 percent approval rating')),\n",
       " (EntityNode(label='entity', embedding=None, properties={'title': 'Barack Obama', 'triplet_source_id': '70afd867-ef2f-4719-b2f8-8366537dd566'}, name='Obama'),\n",
       "  Relation(label='Approval rating dropped to', source_id='Obama', target_id='Low 40s', properties={'title': 'Barack Obama', 'triplet_source_id': '70afd867-ef2f-4719-b2f8-8366537dd566'}),\n",
       "  EntityNode(label='entity', embedding=None, properties={'title': 'Barack Obama', 'triplet_source_id': '70afd867-ef2f-4719-b2f8-8366537dd566'}, name='Low 40s')),\n",
       " (EntityNode(label='entity', embedding=None, properties={'title': 'Barack Obama', 'triplet_source_id': '70afd867-ef2f-4719-b2f8-8366537dd566'}, name='Obama'),\n",
       "  Relation(label='Replaced mcchrystal with', source_id='Obama', target_id='David petraeus', properties={'title': 'Barack Obama', 'triplet_source_id': 'a3f72049-7626-47ff-9470-d2adc7331828'}),\n",
       "  EntityNode(label='entity', embedding=None, properties={'title': 'Barack Obama', 'triplet_source_id': 'a3f72049-7626-47ff-9470-d2adc7331828'}, name='David petraeus')),\n",
       " (EntityNode(label='entity', embedding=None, properties={'title': 'Barack Obama', 'triplet_source_id': '70afd867-ef2f-4719-b2f8-8366537dd566'}, name='Obama'),\n",
       "  Relation(label='Created', source_id='Obama', target_id='11.3 million jobs', properties={'title': 'Barack Obama', 'triplet_source_id': '70afd867-ef2f-4719-b2f8-8366537dd566'}),\n",
       "  EntityNode(label='entity', embedding=None, properties={'title': 'Barack Obama', 'triplet_source_id': '70afd867-ef2f-4719-b2f8-8366537dd566'}, name='11.3 million jobs')),\n",
       " (EntityNode(label='entity', embedding=None, properties={'title': 'Barack Obama', 'triplet_source_id': '70afd867-ef2f-4719-b2f8-8366537dd566'}, name='Obama'),\n",
       "  Relation(label='Proposed', source_id='Obama', target_id='Cap on premium increases', properties={'title': 'Barack Obama', 'triplet_source_id': 'ae0175d8-4d62-49f5-9dcc-f6d6d9291431'}),\n",
       "  EntityNode(label='entity', embedding=None, properties={'title': 'Barack Obama', 'triplet_source_id': 'ae0175d8-4d62-49f5-9dcc-f6d6d9291431'}, name='Cap on premium increases'))]"
      ]
     },
     "execution_count": 30,
     "metadata": {},
     "output_type": "execute_result"
    }
   ],
   "source": [
    "simple_index.property_graph_store.get_triplets(\n",
    "    entity_names=[\"Barack Obama\", \"Obama\"]\n",
    ")[:5]"
   ]
  },
  {
   "cell_type": "markdown",
   "id": "9a2cf15f",
   "metadata": {},
   "source": [
    "## 3. DynamicLLMPathExtractor\n",
    "\n",
    "### Without intial ontology :\n",
    "\n",
    "Here, we let the LLM define the ontology on the fly, giving it full freedom to label the nodes as it best sees fit.\n"
   ]
  },
  {
   "cell_type": "code",
   "execution_count": 32,
   "id": "83434f45",
   "metadata": {},
   "outputs": [
    {
     "name": "stderr",
     "output_type": "stream",
     "text": [
      "Parsing nodes: 100%|██████████| 1/1 [00:00<00:00, 55.48it/s]\n",
      "Extracting and inferring knowledge graph from text:   9%|▉         | 1/11 [00:06<01:02,  6.27s/it]"
     ]
    },
    {
     "name": "stdout",
     "output_type": "stream",
     "text": [
      "Error during extraction: 1 validation error for EntityNode\n",
      "name\n",
      "  Input should be a valid string [type=string_type, input_value=['Vice President Joe Biden', 'Valerie Jarrett'], input_type=list]\n",
      "    For further information visit https://errors.pydantic.dev/2.11/v/string_type\n"
     ]
    },
    {
     "name": "stderr",
     "output_type": "stream",
     "text": [
      "Extracting and inferring knowledge graph from text: 100%|██████████| 11/11 [00:20<00:00,  1.91s/it]\n"
     ]
    },
    {
     "data": {
      "text/plain": [
       "[(EntityNode(label='PERSON', embedding=None, properties={'title': 'Barack Obama', 'triplet_source_id': '2470e600-aecc-4be0-9211-6ed3fcc23bf5'}, name='Obama'),\n",
       "  Relation(label='HAILED', source_id='Obama', target_id='the agreement', properties={'title': 'Barack Obama', 'triplet_source_id': 'b265004e-07a6-4240-9895-6207ce68d306'}),\n",
       "  EntityNode(label='EVENT', embedding=None, properties={'title': 'Barack Obama', 'triplet_source_id': 'b265004e-07a6-4240-9895-6207ce68d306'}, name='the agreement')),\n",
       " (EntityNode(label='PERSON', embedding=None, properties={'title': 'Barack Obama', 'triplet_source_id': '2470e600-aecc-4be0-9211-6ed3fcc23bf5'}, name='Obama'),\n",
       "  Relation(label='ESTABLISHED', source_id='Obama', target_id='Obama Presidential Center', properties={'title': 'Barack Obama', 'triplet_source_id': '2470e600-aecc-4be0-9211-6ed3fcc23bf5'}),\n",
       "  EntityNode(label='PRESIDENTIAL_LIBRARY', embedding=None, properties={'title': 'Barack Obama', 'triplet_source_id': '2470e600-aecc-4be0-9211-6ed3fcc23bf5'}, name='Obama Presidential Center')),\n",
       " (EntityNode(label='PERSON', embedding=None, properties={'title': 'Barack Obama', 'triplet_source_id': '2470e600-aecc-4be0-9211-6ed3fcc23bf5'}, name='Obama'),\n",
       "  Relation(label='WON', source_id='Obama', target_id='March 2004 primary election in Illinois', properties={'title': 'Barack Obama', 'triplet_source_id': 'a13c57f4-9a7b-4db3-ad08-752f92a3cb80'}),\n",
       "  EntityNode(label='ELECTION', embedding=None, properties={'title': 'Barack Obama', 'triplet_source_id': 'a13c57f4-9a7b-4db3-ad08-752f92a3cb80'}, name='March 2004 primary election in Illinois')),\n",
       " (EntityNode(label='PERSON', embedding=None, properties={'title': 'Barack Obama', 'triplet_source_id': '2470e600-aecc-4be0-9211-6ed3fcc23bf5'}, name='Obama'),\n",
       "  Relation(label='WON', source_id='Obama', target_id='November 2004 Senate election in Illinois', properties={'title': 'Barack Obama', 'triplet_source_id': 'a13c57f4-9a7b-4db3-ad08-752f92a3cb80'}),\n",
       "  EntityNode(label='ELECTION', embedding=None, properties={'title': 'Barack Obama', 'triplet_source_id': 'a13c57f4-9a7b-4db3-ad08-752f92a3cb80'}, name='November 2004 Senate election in Illinois')),\n",
       " (EntityNode(label='PERSON', embedding=None, properties={'title': 'Barack Obama', 'triplet_source_id': 'f449e379-cb12-475f-928c-6a93d5aab96d'}, name='Barack Obama'),\n",
       "  Relation(label='WORKED_AS', source_id='Barack Obama', target_id='Law Clerk', properties={'title': 'Barack Obama', 'triplet_source_id': '6c7a3242-7b91-44f1-8a17-8a0681885f47'}),\n",
       "  EntityNode(label='OCCUPATION', embedding=None, properties={'title': 'Barack Obama', 'triplet_source_id': '6c7a3242-7b91-44f1-8a17-8a0681885f47'}, name='Law Clerk')),\n",
       " (EntityNode(label='PERSON', embedding=None, properties={'title': 'Barack Obama', 'triplet_source_id': '2470e600-aecc-4be0-9211-6ed3fcc23bf5'}, name='Obama'),\n",
       "  Relation(label='ANNOUNCED_CANDIDACY', source_id='Obama', target_id='January 2003', properties={'title': 'Barack Obama', 'triplet_source_id': 'a13c57f4-9a7b-4db3-ad08-752f92a3cb80'}),\n",
       "  EntityNode(label='DATE', embedding=None, properties={'title': 'Barack Obama', 'triplet_source_id': 'a13c57f4-9a7b-4db3-ad08-752f92a3cb80'}, name='January 2003')),\n",
       " (EntityNode(label='PERSON', embedding=None, properties={'title': 'Barack Obama', 'triplet_source_id': 'f449e379-cb12-475f-928c-6a93d5aab96d'}, name='Barack Obama'),\n",
       "  Relation(label='BORN_IN', source_id='Barack Obama', target_id='Hawaii', properties={'title': 'Barack Obama', 'triplet_source_id': '6c7a3242-7b91-44f1-8a17-8a0681885f47'}),\n",
       "  EntityNode(label='LOCATION', embedding=None, properties={'title': 'Barack Obama', 'triplet_source_id': '6c7a3242-7b91-44f1-8a17-8a0681885f47'}, name='Hawaii')),\n",
       " (EntityNode(label='PERSON', embedding=None, properties={'title': 'Barack Obama', 'triplet_source_id': '2470e600-aecc-4be0-9211-6ed3fcc23bf5'}, name='Obama'),\n",
       "  Relation(label='APPOINTED', source_id='Obama', target_id='Timothy Geithner', properties={'title': 'Barack Obama', 'triplet_source_id': '881755c6-d342-400d-ad53-f6ef187316d8'}),\n",
       "  EntityNode(label='PERSON', embedding=None, properties={'title': 'Barack Obama', 'triplet_source_id': '881755c6-d342-400d-ad53-f6ef187316d8'}, name='Timothy Geithner')),\n",
       " (EntityNode(label='PERSON', embedding=None, properties={'title': 'Barack Obama', 'triplet_source_id': 'f449e379-cb12-475f-928c-6a93d5aab96d'}, name='Barack Obama'),\n",
       "  Relation(label='WON', source_id='Barack Obama', target_id=\"Children's and Family Emmy Awards\", properties={'title': 'Barack Obama', 'triplet_source_id': 'f449e379-cb12-475f-928c-6a93d5aab96d'}),\n",
       "  EntityNode(label='AWARD', embedding=None, properties={'title': 'Barack Obama', 'triplet_source_id': 'f449e379-cb12-475f-928c-6a93d5aab96d'}, name=\"Children's and Family Emmy Awards\")),\n",
       " (EntityNode(label='PERSON', embedding=None, properties={'title': 'Barack Obama', 'triplet_source_id': 'f449e379-cb12-475f-928c-6a93d5aab96d'}, name='Barack Obama'),\n",
       "  Relation(label='HAS_CHILD', source_id='Barack Obama', target_id='Natasha Obama', properties={'title': 'Barack Obama', 'triplet_source_id': '6472d901-3154-4fd7-9bf2-2ee8faefd3fe'}),\n",
       "  EntityNode(label='PERSON', embedding=None, properties={'title': 'Barack Obama', 'triplet_source_id': '6472d901-3154-4fd7-9bf2-2ee8faefd3fe'}, name='Natasha Obama')),\n",
       " (EntityNode(label='PERSON', embedding=None, properties={'title': 'Barack Obama', 'triplet_source_id': '2470e600-aecc-4be0-9211-6ed3fcc23bf5'}, name='Obama'),\n",
       "  Relation(label='SPONSORED', source_id='Obama', target_id='Iran Sanctions Enabling Act', properties={'title': 'Barack Obama', 'triplet_source_id': 'a13c57f4-9a7b-4db3-ad08-752f92a3cb80'}),\n",
       "  EntityNode(label='LEGISLATION', embedding=None, properties={'title': 'Barack Obama', 'triplet_source_id': 'a13c57f4-9a7b-4db3-ad08-752f92a3cb80'}, name='Iran Sanctions Enabling Act')),\n",
       " (EntityNode(label='PERSON', embedding=None, properties={'title': 'Barack Obama', 'triplet_source_id': '2470e600-aecc-4be0-9211-6ed3fcc23bf5'}, name='Obama'),\n",
       "  Relation(label='ANNOUNCED', source_id='Obama', target_id='increase in U.S. troop levels to 17,000', properties={'title': 'Barack Obama', 'triplet_source_id': '57a0c2a1-3243-4795-ac38-52955d990c06'}),\n",
       "  EntityNode(label='MILITARY_ACTION', embedding=None, properties={'title': 'Barack Obama', 'triplet_source_id': '57a0c2a1-3243-4795-ac38-52955d990c06'}, name='increase in U.S. troop levels to 17,000')),\n",
       " (EntityNode(label='PERSON', embedding=None, properties={'title': 'Barack Obama', 'triplet_source_id': 'f449e379-cb12-475f-928c-6a93d5aab96d'}, name='Barack Obama'),\n",
       "  Relation(label='LEFT_HANDED', source_id='Barack Obama', target_id='Basketball', properties={'title': 'Barack Obama', 'triplet_source_id': '6472d901-3154-4fd7-9bf2-2ee8faefd3fe'}),\n",
       "  EntityNode(label='SPORT', embedding=None, properties={'title': 'Barack Obama', 'triplet_source_id': '6472d901-3154-4fd7-9bf2-2ee8faefd3fe'}, name='Basketball')),\n",
       " (EntityNode(label='PERSON', embedding=None, properties={'title': 'Barack Obama', 'triplet_source_id': 'f449e379-cb12-475f-928c-6a93d5aab96d'}, name='Barack Obama'),\n",
       "  Relation(label='MARRIED_TO', source_id='Barack Obama', target_id='Michelle Obama', properties={'title': 'Barack Obama', 'triplet_source_id': '6c7a3242-7b91-44f1-8a17-8a0681885f47'}),\n",
       "  EntityNode(label='PERSON', embedding=None, properties={'title': 'Barack Obama', 'triplet_source_id': '6c7a3242-7b91-44f1-8a17-8a0681885f47'}, name='Michelle Obama')),\n",
       " (EntityNode(label='PERSON', embedding=None, properties={'title': 'Barack Obama', 'triplet_source_id': 'f449e379-cb12-475f-928c-6a93d5aab96d'}, name='Barack Obama'),\n",
       "  Relation(label='NAMED_TIME_PERSON_OF_THE_YEAR', source_id='Barack Obama', target_id=\"TIME Magazine's Time Person of the Year 2012\", properties={'title': 'Barack Obama', 'triplet_source_id': 'f449e379-cb12-475f-928c-6a93d5aab96d'}),\n",
       "  EntityNode(label='HONOR', embedding=None, properties={'title': 'Barack Obama', 'triplet_source_id': 'f449e379-cb12-475f-928c-6a93d5aab96d'}, name=\"TIME Magazine's Time Person of the Year 2012\")),\n",
       " (EntityNode(label='PERSON', embedding=None, properties={'title': 'Barack Obama', 'triplet_source_id': '2470e600-aecc-4be0-9211-6ed3fcc23bf5'}, name='Obama'),\n",
       "  Relation(label='BECAME', source_id='Obama', target_id='Chairman of Senate subcommittee on European Affairs', properties={'title': 'Barack Obama', 'triplet_source_id': 'a13c57f4-9a7b-4db3-ad08-752f92a3cb80'}),\n",
       "  EntityNode(label='POSITION', embedding=None, properties={'title': 'Barack Obama', 'triplet_source_id': 'a13c57f4-9a7b-4db3-ad08-752f92a3cb80'}, name='Chairman of Senate subcommittee on European Affairs')),\n",
       " (EntityNode(label='PERSON', embedding=None, properties={'title': 'Barack Obama', 'triplet_source_id': '2470e600-aecc-4be0-9211-6ed3fcc23bf5'}, name='Obama'),\n",
       "  Relation(label='CREATED', source_id='Obama', target_id='11.3 million jobs', properties={'title': 'Barack Obama', 'triplet_source_id': '2470e600-aecc-4be0-9211-6ed3fcc23bf5'}),\n",
       "  EntityNode(label='ECONOMIC_STATISTIC', embedding=None, properties={'title': 'Barack Obama', 'triplet_source_id': '2470e600-aecc-4be0-9211-6ed3fcc23bf5'}, name='11.3 million jobs')),\n",
       " (EntityNode(label='PERSON', embedding=None, properties={'title': 'Barack Obama', 'triplet_source_id': 'f449e379-cb12-475f-928c-6a93d5aab96d'}, name='Barack Obama'),\n",
       "  Relation(label='NAMED_TIME_PERSON_OF_THE_YEAR', source_id='Barack Obama', target_id=\"TIME Magazine's Time Person of the Year 2008\", properties={'title': 'Barack Obama', 'triplet_source_id': 'f449e379-cb12-475f-928c-6a93d5aab96d'}),\n",
       "  EntityNode(label='HONOR', embedding=None, properties={'title': 'Barack Obama', 'triplet_source_id': 'f449e379-cb12-475f-928c-6a93d5aab96d'}, name=\"TIME Magazine's Time Person of the Year 2008\")),\n",
       " (EntityNode(label='PERSON', embedding=None, properties={'title': 'Barack Obama', 'triplet_source_id': '2470e600-aecc-4be0-9211-6ed3fcc23bf5'}, name='Obama'),\n",
       "  Relation(label='CHOSEN_AS', source_id='Obama', target_id='Joe Biden', properties={'title': 'Barack Obama', 'triplet_source_id': 'a13c57f4-9a7b-4db3-ad08-752f92a3cb80'}),\n",
       "  EntityNode(label='PERSON', embedding=None, properties={'title': 'Barack Obama', 'triplet_source_id': 'b265004e-07a6-4240-9895-6207ce68d306'}, name='Joe Biden')),\n",
       " (EntityNode(label='PERSON', embedding=None, properties={'title': 'Barack Obama', 'triplet_source_id': '2470e600-aecc-4be0-9211-6ed3fcc23bf5'}, name='Obama'),\n",
       "  Relation(label='WON', source_id='Obama', target_id='365 electoral votes in 2008', properties={'title': 'Barack Obama', 'triplet_source_id': 'a13c57f4-9a7b-4db3-ad08-752f92a3cb80'}),\n",
       "  EntityNode(label='ELECTION_RESULT', embedding=None, properties={'title': 'Barack Obama', 'triplet_source_id': 'a13c57f4-9a7b-4db3-ad08-752f92a3cb80'}, name='365 electoral votes in 2008')),\n",
       " (EntityNode(label='PERSON', embedding=None, properties={'title': 'Barack Obama', 'triplet_source_id': '2470e600-aecc-4be0-9211-6ed3fcc23bf5'}, name='Obama'),\n",
       "  Relation(label='REPLACED', source_id='Obama', target_id='McChrystal', properties={'title': 'Barack Obama', 'triplet_source_id': '57a0c2a1-3243-4795-ac38-52955d990c06'}),\n",
       "  EntityNode(label='PERSON', embedding=None, properties={'title': 'Barack Obama', 'triplet_source_id': '57a0c2a1-3243-4795-ac38-52955d990c06'}, name='McChrystal')),\n",
       " (EntityNode(label='PERSON', embedding=None, properties={'title': 'Barack Obama', 'triplet_source_id': '2470e600-aecc-4be0-9211-6ed3fcc23bf5'}, name='Obama'),\n",
       "  Relation(label='DELIVERED', source_id='Obama', target_id='keynote address at 2004 Democratic National Convention', properties={'title': 'Barack Obama', 'triplet_source_id': 'a13c57f4-9a7b-4db3-ad08-752f92a3cb80'}),\n",
       "  EntityNode(label='EVENT', embedding=None, properties={'title': 'Barack Obama', 'triplet_source_id': 'a13c57f4-9a7b-4db3-ad08-752f92a3cb80'}, name='keynote address at 2004 Democratic National Convention')),\n",
       " (EntityNode(label='PERSON', embedding=None, properties={'title': 'Barack Obama', 'triplet_source_id': 'f449e379-cb12-475f-928c-6a93d5aab96d'}, name='Barack Obama'),\n",
       "  Relation(label='ELECTED_AS', source_id='Barack Obama', target_id='U.S. Senator', properties={'title': 'Barack Obama', 'triplet_source_id': '6c7a3242-7b91-44f1-8a17-8a0681885f47'}),\n",
       "  EntityNode(label='OFFICE', embedding=None, properties={'title': 'Barack Obama', 'triplet_source_id': 'a13c57f4-9a7b-4db3-ad08-752f92a3cb80'}, name='U.S. Senator')),\n",
       " (EntityNode(label='PERSON', embedding=None, properties={'title': 'Barack Obama', 'triplet_source_id': 'f449e379-cb12-475f-928c-6a93d5aab96d'}, name='Barack Obama'),\n",
       "  Relation(label='WORKED_AS', source_id='Barack Obama', target_id='Community Organizer', properties={'title': 'Barack Obama', 'triplet_source_id': '6c7a3242-7b91-44f1-8a17-8a0681885f47'}),\n",
       "  EntityNode(label='OCCUPATION', embedding=None, properties={'title': 'Barack Obama', 'triplet_source_id': '6c7a3242-7b91-44f1-8a17-8a0681885f47'}, name='Community Organizer')),\n",
       " (EntityNode(label='PERSON', embedding=None, properties={'title': 'Barack Obama', 'triplet_source_id': '2470e600-aecc-4be0-9211-6ed3fcc23bf5'}, name='Obama'),\n",
       "  Relation(label='AUTHORIZED', source_id='Obama', target_id='support to Saudi Arabia in Yemen', properties={'title': 'Barack Obama', 'triplet_source_id': '6d4ea1dc-a5ac-4fd9-9dda-4a23b49fc5a2'}),\n",
       "  EntityNode(label='MILITARY_SUPPORT', embedding=None, properties={'title': 'Barack Obama', 'triplet_source_id': '6d4ea1dc-a5ac-4fd9-9dda-4a23b49fc5a2'}, name='support to Saudi Arabia in Yemen')),\n",
       " (EntityNode(label='PERSON', embedding=None, properties={'title': 'Barack Obama', 'triplet_source_id': '2470e600-aecc-4be0-9211-6ed3fcc23bf5'}, name='Obama'),\n",
       "  Relation(label='TRAVELED_TO', source_id='Obama', target_id='Australia', properties={'title': 'Barack Obama', 'triplet_source_id': 'b265004e-07a6-4240-9895-6207ce68d306'}),\n",
       "  EntityNode(label='COUNTRY', embedding=None, properties={'title': 'Barack Obama', 'triplet_source_id': 'b265004e-07a6-4240-9895-6207ce68d306'}, name='Australia')),\n",
       " (EntityNode(label='PERSON', embedding=None, properties={'title': 'Barack Obama', 'triplet_source_id': '2470e600-aecc-4be0-9211-6ed3fcc23bf5'}, name='Obama'),\n",
       "  Relation(label='SIGNED', source_id='Obama', target_id='Budget Control Act of 2011', properties={'title': 'Barack Obama', 'triplet_source_id': '881755c6-d342-400d-ad53-f6ef187316d8'}),\n",
       "  EntityNode(label='LEGISLATION', embedding=None, properties={'title': 'Barack Obama', 'triplet_source_id': '881755c6-d342-400d-ad53-f6ef187316d8'}, name='Budget Control Act of 2011')),\n",
       " (EntityNode(label='PERSON', embedding=None, properties={'title': 'Barack Obama', 'triplet_source_id': 'f449e379-cb12-475f-928c-6a93d5aab96d'}, name='Barack Obama'),\n",
       "  Relation(label='SIGNED', source_id='Barack Obama', target_id='American Recovery and Reinvestment Act of 2009', properties={'title': 'Barack Obama', 'triplet_source_id': '881755c6-d342-400d-ad53-f6ef187316d8'}),\n",
       "  EntityNode(label='LEGISLATION', embedding=None, properties={'title': 'Barack Obama', 'triplet_source_id': '881755c6-d342-400d-ad53-f6ef187316d8'}, name='American Recovery and Reinvestment Act of 2009')),\n",
       " (EntityNode(label='PERSON', embedding=None, properties={'title': 'Barack Obama', 'triplet_source_id': '2470e600-aecc-4be0-9211-6ed3fcc23bf5'}, name='Obama'),\n",
       "  Relation(label='ENDORSED', source_id='Obama', target_id='Joe Biden', properties={'title': 'Barack Obama', 'triplet_source_id': 'b265004e-07a6-4240-9895-6207ce68d306'}),\n",
       "  EntityNode(label='PERSON', embedding=None, properties={'title': 'Barack Obama', 'triplet_source_id': 'b265004e-07a6-4240-9895-6207ce68d306'}, name='Joe Biden')),\n",
       " (EntityNode(label='PERSON', embedding=None, properties={'title': 'Barack Obama', 'triplet_source_id': '2470e600-aecc-4be0-9211-6ed3fcc23bf5'}, name='Obama'),\n",
       "  Relation(label='ORDERED', source_id='Obama', target_id='special forces raid', properties={'title': 'Barack Obama', 'triplet_source_id': '57a0c2a1-3243-4795-ac38-52955d990c06'}),\n",
       "  EntityNode(label='MILITARY_OPERATION', embedding=None, properties={'title': 'Barack Obama', 'triplet_source_id': '57a0c2a1-3243-4795-ac38-52955d990c06'}, name='special forces raid')),\n",
       " (EntityNode(label='PERSON', embedding=None, properties={'title': 'Barack Obama', 'triplet_source_id': 'f449e379-cb12-475f-928c-6a93d5aab96d'}, name='Barack Obama'),\n",
       "  Relation(label='HAS_HALF_SISTER', source_id='Barack Obama', target_id='Maya Soetoro-Ng', properties={'title': 'Barack Obama', 'triplet_source_id': '6472d901-3154-4fd7-9bf2-2ee8faefd3fe'}),\n",
       "  EntityNode(label='PERSON', embedding=None, properties={'title': 'Barack Obama', 'triplet_source_id': '6472d901-3154-4fd7-9bf2-2ee8faefd3fe'}, name='Maya Soetoro-Ng')),\n",
       " (EntityNode(label='PERSON', embedding=None, properties={'title': 'Barack Obama', 'triplet_source_id': '2470e600-aecc-4be0-9211-6ed3fcc23bf5'}, name='Obama'),\n",
       "  Relation(label='LEFT', source_id='Obama', target_id='Senate Committee for Environment and Public Works', properties={'title': 'Barack Obama', 'triplet_source_id': 'a13c57f4-9a7b-4db3-ad08-752f92a3cb80'}),\n",
       "  EntityNode(label='COMMITTEE', embedding=None, properties={'title': 'Barack Obama', 'triplet_source_id': 'a13c57f4-9a7b-4db3-ad08-752f92a3cb80'}, name='Senate Committee for Environment and Public Works')),\n",
       " (EntityNode(label='PERSON', embedding=None, properties={'title': 'Barack Obama', 'triplet_source_id': 'f449e379-cb12-475f-928c-6a93d5aab96d'}, name='Barack Obama'),\n",
       "  Relation(label='BECAME_FIRST_PRESIDENT_FROM_PARTY', source_id='Barack Obama', target_id='Democratic Party', properties={'title': 'Barack Obama', 'triplet_source_id': 'f449e379-cb12-475f-928c-6a93d5aab96d'}),\n",
       "  EntityNode(label='ORGANIZATION', embedding=None, properties={'title': 'Barack Obama', 'triplet_source_id': 'f449e379-cb12-475f-928c-6a93d5aab96d'}, name='Democratic Party')),\n",
       " (EntityNode(label='PERSON', embedding=None, properties={'title': 'Barack Obama', 'triplet_source_id': '2470e600-aecc-4be0-9211-6ed3fcc23bf5'}, name='Obama'),\n",
       "  Relation(label='SUPPORTED', source_id='Obama', target_id='LGBT rights', properties={'title': 'Barack Obama', 'triplet_source_id': '2470e600-aecc-4be0-9211-6ed3fcc23bf5'}),\n",
       "  EntityNode(label='POLITICAL_ISSUE', embedding=None, properties={'title': 'Barack Obama', 'triplet_source_id': '2470e600-aecc-4be0-9211-6ed3fcc23bf5'}, name='LGBT rights')),\n",
       " (EntityNode(label='PERSON', embedding=None, properties={'title': 'Barack Obama', 'triplet_source_id': '2470e600-aecc-4be0-9211-6ed3fcc23bf5'}, name='Obama'),\n",
       "  Relation(label='CREATED', source_id='Obama', target_id='campaign committee', properties={'title': 'Barack Obama', 'triplet_source_id': 'a13c57f4-9a7b-4db3-ad08-752f92a3cb80'}),\n",
       "  EntityNode(label='ORGANIZATION', embedding=None, properties={'title': 'Barack Obama', 'triplet_source_id': 'a13c57f4-9a7b-4db3-ad08-752f92a3cb80'}, name='campaign committee')),\n",
       " (EntityNode(label='PERSON', embedding=None, properties={'title': 'Barack Obama', 'triplet_source_id': '2470e600-aecc-4be0-9211-6ed3fcc23bf5'}, name='Obama'),\n",
       "  Relation(label='WARNED', source_id='Obama', target_id='Israel about Hamas attack', properties={'title': 'Barack Obama', 'triplet_source_id': 'b265004e-07a6-4240-9895-6207ce68d306'}),\n",
       "  EntityNode(label='EVENT', embedding=None, properties={'title': 'Barack Obama', 'triplet_source_id': 'b265004e-07a6-4240-9895-6207ce68d306'}, name='Israel about Hamas attack')),\n",
       " (EntityNode(label='PERSON', embedding=None, properties={'title': 'Barack Obama', 'triplet_source_id': '2470e600-aecc-4be0-9211-6ed3fcc23bf5'}, name='Obama'),\n",
       "  Relation(label='CREATED', source_id='Obama', target_id='25 new national monuments', properties={'title': 'Barack Obama', 'triplet_source_id': '881755c6-d342-400d-ad53-f6ef187316d8'}),\n",
       "  EntityNode(label='NATIONAL_MONUMENT', embedding=None, properties={'title': 'Barack Obama', 'triplet_source_id': '881755c6-d342-400d-ad53-f6ef187316d8'}, name='25 new national monuments')),\n",
       " (EntityNode(label='PERSON', embedding=None, properties={'title': 'Barack Obama', 'triplet_source_id': 'f449e379-cb12-475f-928c-6a93d5aab96d'}, name='Barack Obama'),\n",
       "  Relation(label='MAJORED_IN', source_id='Barack Obama', target_id='Political Science', properties={'title': 'Barack Obama', 'triplet_source_id': '6c7a3242-7b91-44f1-8a17-8a0681885f47'}),\n",
       "  EntityNode(label='FIELD_OF_STUDY', embedding=None, properties={'title': 'Barack Obama', 'triplet_source_id': '6c7a3242-7b91-44f1-8a17-8a0681885f47'}, name='Political Science')),\n",
       " (EntityNode(label='PERSON', embedding=None, properties={'title': 'Barack Obama', 'triplet_source_id': 'f449e379-cb12-475f-928c-6a93d5aab96d'}, name='Barack Obama'),\n",
       "  Relation(label='RECEIVED', source_id='Barack Obama', target_id='Primetime Emmy Award for Outstanding Narrator 2023', properties={'title': 'Barack Obama', 'triplet_source_id': 'f449e379-cb12-475f-928c-6a93d5aab96d'}),\n",
       "  EntityNode(label='AWARD', embedding=None, properties={'title': 'Barack Obama', 'triplet_source_id': 'f449e379-cb12-475f-928c-6a93d5aab96d'}, name='Primetime Emmy Award for Outstanding Narrator 2023')),\n",
       " (EntityNode(label='PERSON', embedding=None, properties={'title': 'Barack Obama', 'triplet_source_id': 'f449e379-cb12-475f-928c-6a93d5aab96d'}, name='Barack Obama'),\n",
       "  Relation(label='CITED_REGION', source_id='Barack Obama', target_id='Afghanistan', properties={'title': 'Barack Obama', 'triplet_source_id': '57a0c2a1-3243-4795-ac38-52955d990c06'}),\n",
       "  EntityNode(label='REGION', embedding=None, properties={'title': 'Barack Obama', 'triplet_source_id': '57a0c2a1-3243-4795-ac38-52955d990c06'}, name='Afghanistan')),\n",
       " (EntityNode(label='PERSON', embedding=None, properties={'title': 'Barack Obama', 'triplet_source_id': 'f449e379-cb12-475f-928c-6a93d5aab96d'}, name='Barack Obama'),\n",
       "  Relation(label='CANDIDATE_FOR', source_id='Barack Obama', target_id='2004 U.S. Senate race in Illinois', properties={'title': 'Barack Obama', 'triplet_source_id': 'a13c57f4-9a7b-4db3-ad08-752f92a3cb80'}),\n",
       "  EntityNode(label='ELECTION', embedding=None, properties={'title': 'Barack Obama', 'triplet_source_id': 'a13c57f4-9a7b-4db3-ad08-752f92a3cb80'}, name='2004 U.S. Senate race in Illinois')),\n",
       " (EntityNode(label='PERSON', embedding=None, properties={'title': 'Barack Obama', 'triplet_source_id': 'f449e379-cb12-475f-928c-6a93d5aab96d'}, name='Barack Obama'),\n",
       "  Relation(label='HAS_RELATIVE', source_id='Barack Obama', target_id='Irish Cousins', properties={'title': 'Barack Obama', 'triplet_source_id': '6472d901-3154-4fd7-9bf2-2ee8faefd3fe'}),\n",
       "  EntityNode(label='PERSON', embedding=None, properties={'title': 'Barack Obama', 'triplet_source_id': '6472d901-3154-4fd7-9bf2-2ee8faefd3fe'}, name='Irish Cousins')),\n",
       " (EntityNode(label='PERSON', embedding=None, properties={'title': 'Barack Obama', 'triplet_source_id': '2470e600-aecc-4be0-9211-6ed3fcc23bf5'}, name='Obama'),\n",
       "  Relation(label='SWORN_IN_AS', source_id='Obama', target_id='U.S. Senator', properties={'title': 'Barack Obama', 'triplet_source_id': 'a13c57f4-9a7b-4db3-ad08-752f92a3cb80'}),\n",
       "  EntityNode(label='OFFICE', embedding=None, properties={'title': 'Barack Obama', 'triplet_source_id': 'a13c57f4-9a7b-4db3-ad08-752f92a3cb80'}, name='U.S. Senator')),\n",
       " (EntityNode(label='PERSON', embedding=None, properties={'title': 'Barack Obama', 'triplet_source_id': '2470e600-aecc-4be0-9211-6ed3fcc23bf5'}, name='Obama'),\n",
       "  Relation(label='CRITICIZED', source_id='Obama', target_id='President Trump for handling COVID-19', properties={'title': 'Barack Obama', 'triplet_source_id': 'b265004e-07a6-4240-9895-6207ce68d306'}),\n",
       "  EntityNode(label='EVENT', embedding=None, properties={'title': 'Barack Obama', 'triplet_source_id': 'b265004e-07a6-4240-9895-6207ce68d306'}, name='President Trump for handling COVID-19')),\n",
       " (EntityNode(label='PERSON', embedding=None, properties={'title': 'Barack Obama', 'triplet_source_id': 'f449e379-cb12-475f-928c-6a93d5aab96d'}, name='Barack Obama'),\n",
       "  Relation(label='PLAYED', source_id='Barack Obama', target_id='Basketball', properties={'title': 'Barack Obama', 'triplet_source_id': '6472d901-3154-4fd7-9bf2-2ee8faefd3fe'}),\n",
       "  EntityNode(label='SPORT', embedding=None, properties={'title': 'Barack Obama', 'triplet_source_id': '6472d901-3154-4fd7-9bf2-2ee8faefd3fe'}, name='Basketball')),\n",
       " (EntityNode(label='PERSON', embedding=None, properties={'title': 'Barack Obama', 'triplet_source_id': '2470e600-aecc-4be0-9211-6ed3fcc23bf5'}, name='Obama'),\n",
       "  Relation(label='DELIVERED', source_id='Obama', target_id='speech at Cairo University', properties={'title': 'Barack Obama', 'triplet_source_id': '6d4ea1dc-a5ac-4fd9-9dda-4a23b49fc5a2'}),\n",
       "  EntityNode(label='EVENT', embedding=None, properties={'title': 'Barack Obama', 'triplet_source_id': '6d4ea1dc-a5ac-4fd9-9dda-4a23b49fc5a2'}, name='speech at Cairo University')),\n",
       " (EntityNode(label='PERSON', embedding=None, properties={'title': 'Barack Obama', 'triplet_source_id': 'f449e379-cb12-475f-928c-6a93d5aab96d'}, name='Barack Obama'),\n",
       "  Relation(label='HAS_FAMILY_MEMBER', source_id='Barack Obama', target_id='Maya Soetoro-Ng', properties={'title': 'Barack Obama', 'triplet_source_id': '6472d901-3154-4fd7-9bf2-2ee8faefd3fe'}),\n",
       "  EntityNode(label='PERSON', embedding=None, properties={'title': 'Barack Obama', 'triplet_source_id': '6472d901-3154-4fd7-9bf2-2ee8faefd3fe'}, name='Maya Soetoro-Ng')),\n",
       " (EntityNode(label='PERSON', embedding=None, properties={'title': 'Barack Obama', 'triplet_source_id': '2470e600-aecc-4be0-9211-6ed3fcc23bf5'}, name='Obama'),\n",
       "  Relation(label='WON', source_id='Obama', target_id='Audio Publishers Association Award', properties={'title': 'Barack Obama', 'triplet_source_id': 'b265004e-07a6-4240-9895-6207ce68d306'}),\n",
       "  EntityNode(label='AWARD', embedding=None, properties={'title': 'Barack Obama', 'triplet_source_id': 'b265004e-07a6-4240-9895-6207ce68d306'}, name='Audio Publishers Association Award')),\n",
       " (EntityNode(label='PERSON', embedding=None, properties={'title': 'Barack Obama', 'triplet_source_id': 'f449e379-cb12-475f-928c-6a93d5aab96d'}, name='Barack Obama'),\n",
       "  Relation(label='MARRIED_TO', source_id='Barack Obama', target_id='Michelle Robinson', properties={'title': 'Barack Obama', 'triplet_source_id': '6472d901-3154-4fd7-9bf2-2ee8faefd3fe'}),\n",
       "  EntityNode(label='PERSON', embedding=None, properties={'title': 'Barack Obama', 'triplet_source_id': '6472d901-3154-4fd7-9bf2-2ee8faefd3fe'}, name='Michelle Robinson')),\n",
       " (EntityNode(label='PERSON', embedding=None, properties={'title': 'Barack Obama', 'triplet_source_id': '2470e600-aecc-4be0-9211-6ed3fcc23bf5'}, name='Obama'),\n",
       "  Relation(label='ANNOUNCED_DEPLOYMENT', source_id='Obama', target_id='additional 30,000 military personnel to Afghanistan', properties={'title': 'Barack Obama', 'triplet_source_id': '57a0c2a1-3243-4795-ac38-52955d990c06'}),\n",
       "  EntityNode(label='MILITARY_DEPLOYMENT', embedding=None, properties={'title': 'Barack Obama', 'triplet_source_id': '57a0c2a1-3243-4795-ac38-52955d990c06'}, name='additional 30,000 military personnel to Afghanistan')),\n",
       " (EntityNode(label='PERSON', embedding=None, properties={'title': 'Barack Obama', 'triplet_source_id': '2470e600-aecc-4be0-9211-6ed3fcc23bf5'}, name='Obama'),\n",
       "  Relation(label='CALLED_THREAT', source_id='Obama', target_id='tribal border region of Pakistan', properties={'title': 'Barack Obama', 'triplet_source_id': '57a0c2a1-3243-4795-ac38-52955d990c06'}),\n",
       "  EntityNode(label='REGION', embedding=None, properties={'title': 'Barack Obama', 'triplet_source_id': '57a0c2a1-3243-4795-ac38-52955d990c06'}, name='tribal border region of Pakistan')),\n",
       " (EntityNode(label='PERSON', embedding=None, properties={'title': 'Barack Obama', 'triplet_source_id': '2470e600-aecc-4be0-9211-6ed3fcc23bf5'}, name='Obama'),\n",
       "  Relation(label='SIGNED', source_id='Obama', target_id=\"Don't Ask, Don't Tell Repeal Act\", properties={'title': 'Barack Obama', 'triplet_source_id': '2470e600-aecc-4be0-9211-6ed3fcc23bf5'}),\n",
       "  EntityNode(label='LEGISLATION', embedding=None, properties={'title': 'Barack Obama', 'triplet_source_id': '2470e600-aecc-4be0-9211-6ed3fcc23bf5'}, name=\"Don't Ask, Don't Tell Repeal Act\")),\n",
       " (EntityNode(label='PERSON', embedding=None, properties={'title': 'Barack Obama', 'triplet_source_id': '2470e600-aecc-4be0-9211-6ed3fcc23bf5'}, name='Obama'),\n",
       "  Relation(label='PROPOSED', source_id='Obama', target_id='expansion of health insurance coverage', properties={'title': 'Barack Obama', 'triplet_source_id': '6d4ea1dc-a5ac-4fd9-9dda-4a23b49fc5a2'}),\n",
       "  EntityNode(label='POLICY', embedding=None, properties={'title': 'Barack Obama', 'triplet_source_id': '6d4ea1dc-a5ac-4fd9-9dda-4a23b49fc5a2'}, name='expansion of health insurance coverage')),\n",
       " (EntityNode(label='PERSON', embedding=None, properties={'title': 'Barack Obama', 'triplet_source_id': 'f449e379-cb12-475f-928c-6a93d5aab96d'}, name='Barack Obama'),\n",
       "  Relation(label='HAS_TITLE', source_id='Barack Obama', target_id='President of the United States', properties={'title': 'Barack Obama', 'triplet_source_id': '6c7a3242-7b91-44f1-8a17-8a0681885f47'}),\n",
       "  EntityNode(label='OFFICE', embedding=None, properties={'title': 'Barack Obama', 'triplet_source_id': 'b265004e-07a6-4240-9895-6207ce68d306'}, name='President of the United States')),\n",
       " (EntityNode(label='PERSON', embedding=None, properties={'title': 'Barack Obama', 'triplet_source_id': '2470e600-aecc-4be0-9211-6ed3fcc23bf5'}, name='Obama'),\n",
       "  Relation(label='CALLED_WAR', source_id='Obama', target_id='war in Iraq', properties={'title': 'Barack Obama', 'triplet_source_id': '57a0c2a1-3243-4795-ac38-52955d990c06'}),\n",
       "  EntityNode(label='CONFLICT', embedding=None, properties={'title': 'Barack Obama', 'triplet_source_id': '57a0c2a1-3243-4795-ac38-52955d990c06'}, name='war in Iraq')),\n",
       " (EntityNode(label='PERSON', embedding=None, properties={'title': 'Barack Obama', 'triplet_source_id': '2470e600-aecc-4be0-9211-6ed3fcc23bf5'}, name='Obama'),\n",
       "  Relation(label='STARTED', source_id='Obama', target_id='program to back U.S. nuclear arms buildup', properties={'title': 'Barack Obama', 'triplet_source_id': 'b265004e-07a6-4240-9895-6207ce68d306'}),\n",
       "  EntityNode(label='POLICY', embedding=None, properties={'title': 'Barack Obama', 'triplet_source_id': 'b265004e-07a6-4240-9895-6207ce68d306'}, name='program to back U.S. nuclear arms buildup')),\n",
       " (EntityNode(label='PERSON', embedding=None, properties={'title': 'Barack Obama', 'triplet_source_id': '2470e600-aecc-4be0-9211-6ed3fcc23bf5'}, name='Obama'),\n",
       "  Relation(label='ORDERED', source_id='Obama', target_id='drone strike in Yemen', properties={'title': 'Barack Obama', 'triplet_source_id': '6d4ea1dc-a5ac-4fd9-9dda-4a23b49fc5a2'}),\n",
       "  EntityNode(label='MILITARY_ACTION', embedding=None, properties={'title': 'Barack Obama', 'triplet_source_id': '6d4ea1dc-a5ac-4fd9-9dda-4a23b49fc5a2'}, name='drone strike in Yemen')),\n",
       " (EntityNode(label='PERSON', embedding=None, properties={'title': 'Barack Obama', 'triplet_source_id': '2470e600-aecc-4be0-9211-6ed3fcc23bf5'}, name='Obama'),\n",
       "  Relation(label='VISITED', source_id='Obama', target_id='White House', properties={'title': 'Barack Obama', 'triplet_source_id': 'b265004e-07a6-4240-9895-6207ce68d306'}),\n",
       "  EntityNode(label='GOVERNMENT_BODY', embedding=None, properties={'title': 'Barack Obama', 'triplet_source_id': 'f449e379-cb12-475f-928c-6a93d5aab96d'}, name='White House')),\n",
       " (EntityNode(label='PERSON', embedding=None, properties={'title': 'Barack Obama', 'triplet_source_id': '2470e600-aecc-4be0-9211-6ed3fcc23bf5'}, name='Obama'),\n",
       "  Relation(label='ORDERED', source_id='Obama', target_id='airstrikes against ISIL', properties={'title': 'Barack Obama', 'triplet_source_id': '6d4ea1dc-a5ac-4fd9-9dda-4a23b49fc5a2'}),\n",
       "  EntityNode(label='MILITARY_OPERATION', embedding=None, properties={'title': 'Barack Obama', 'triplet_source_id': '6d4ea1dc-a5ac-4fd9-9dda-4a23b49fc5a2'}, name='airstrikes against ISIL')),\n",
       " (EntityNode(label='PERSON', embedding=None, properties={'title': 'Barack Obama', 'triplet_source_id': 'f449e379-cb12-475f-928c-6a93d5aab96d'}, name='Barack Obama'),\n",
       "  Relation(label='FAVORITE_FOOTBALL_TEAM', source_id='Barack Obama', target_id='Chicago Bears', properties={'title': 'Barack Obama', 'triplet_source_id': '6472d901-3154-4fd7-9bf2-2ee8faefd3fe'}),\n",
       "  EntityNode(label='SPORTS_TEAM', embedding=None, properties={'title': 'Barack Obama', 'triplet_source_id': '6472d901-3154-4fd7-9bf2-2ee8faefd3fe'}, name='Chicago Bears')),\n",
       " (EntityNode(label='PERSON', embedding=None, properties={'title': 'Barack Obama', 'triplet_source_id': 'f449e379-cb12-475f-928c-6a93d5aab96d'}, name='Barack Obama'),\n",
       "  Relation(label='HAS_SIBLING', source_id='Barack Obama', target_id='Maya Soetoro', properties={'title': 'Barack Obama', 'triplet_source_id': '6c7a3242-7b91-44f1-8a17-8a0681885f47'}),\n",
       "  EntityNode(label='PERSON', embedding=None, properties={'title': 'Barack Obama', 'triplet_source_id': '6c7a3242-7b91-44f1-8a17-8a0681885f47'}, name='Maya Soetoro')),\n",
       " (EntityNode(label='PERSON', embedding=None, properties={'title': 'Barack Obama', 'triplet_source_id': 'f449e379-cb12-475f-928c-6a93d5aab96d'}, name='Barack Obama'),\n",
       "  Relation(label='GRADUATED_FROM', source_id='Barack Obama', target_id='Harvard Law School', properties={'title': 'Barack Obama', 'triplet_source_id': '6c7a3242-7b91-44f1-8a17-8a0681885f47'}),\n",
       "  EntityNode(label='EDUCATION_INSTITUTION', embedding=None, properties={'title': 'Barack Obama', 'triplet_source_id': '6c7a3242-7b91-44f1-8a17-8a0681885f47'}, name='Harvard Law School')),\n",
       " (EntityNode(label='PERSON', embedding=None, properties={'title': 'Barack Obama', 'triplet_source_id': '2470e600-aecc-4be0-9211-6ed3fcc23bf5'}, name='Obama'),\n",
       "  Relation(label='ELECTED_PRESIDENT', source_id='Obama', target_id='November 4, 2008', properties={'title': 'Barack Obama', 'triplet_source_id': 'a13c57f4-9a7b-4db3-ad08-752f92a3cb80'}),\n",
       "  EntityNode(label='DATE', embedding=None, properties={'title': 'Barack Obama', 'triplet_source_id': 'a13c57f4-9a7b-4db3-ad08-752f92a3cb80'}, name='November 4, 2008')),\n",
       " (EntityNode(label='PERSON', embedding=None, properties={'title': 'Barack Obama', 'triplet_source_id': '2470e600-aecc-4be0-9211-6ed3fcc23bf5'}, name='Obama'),\n",
       "  Relation(label='MET_WITH', source_id='Obama', target_id='Australian prime minister Anthony Albanese', properties={'title': 'Barack Obama', 'triplet_source_id': 'b265004e-07a6-4240-9895-6207ce68d306'}),\n",
       "  EntityNode(label='PERSON', embedding=None, properties={'title': 'Barack Obama', 'triplet_source_id': 'b265004e-07a6-4240-9895-6207ce68d306'}, name='Australian prime minister Anthony Albanese')),\n",
       " (EntityNode(label='PERSON', embedding=None, properties={'title': 'Barack Obama', 'triplet_source_id': '2470e600-aecc-4be0-9211-6ed3fcc23bf5'}, name='Obama'),\n",
       "  Relation(label='WON', source_id='Obama', target_id='Nobel Peace Prize in 2009', properties={'title': 'Barack Obama', 'triplet_source_id': '2470e600-aecc-4be0-9211-6ed3fcc23bf5'}),\n",
       "  EntityNode(label='AWARD', embedding=None, properties={'title': 'Barack Obama', 'triplet_source_id': '2470e600-aecc-4be0-9211-6ed3fcc23bf5'}, name='Nobel Peace Prize in 2009')),\n",
       " (EntityNode(label='PERSON', embedding=None, properties={'title': 'Barack Obama', 'triplet_source_id': '2470e600-aecc-4be0-9211-6ed3fcc23bf5'}, name='Obama'),\n",
       "  Relation(label='SPOKE_OUT_AGAINST', source_id='Obama', target_id='Iraq War', properties={'title': 'Barack Obama', 'triplet_source_id': 'a13c57f4-9a7b-4db3-ad08-752f92a3cb80'}),\n",
       "  EntityNode(label='EVENT', embedding=None, properties={'title': 'Barack Obama', 'triplet_source_id': 'a13c57f4-9a7b-4db3-ad08-752f92a3cb80'}, name='Iraq War')),\n",
       " (EntityNode(label='PERSON', embedding=None, properties={'title': 'Barack Obama', 'triplet_source_id': 'f449e379-cb12-475f-928c-6a93d5aab96d'}, name='Barack Obama'),\n",
       "  Relation(label='CHILD_OF', source_id='Barack Obama', target_id='Ann Dunham', properties={'title': 'Barack Obama', 'triplet_source_id': '6c7a3242-7b91-44f1-8a17-8a0681885f47'}),\n",
       "  EntityNode(label='PERSON', embedding=None, properties={'title': 'Barack Obama', 'triplet_source_id': '6472d901-3154-4fd7-9bf2-2ee8faefd3fe'}, name='Ann Dunham')),\n",
       " (EntityNode(label='PERSON', embedding=None, properties={'title': 'Barack Obama', 'triplet_source_id': '2470e600-aecc-4be0-9211-6ed3fcc23bf5'}, name='Obama'),\n",
       "  Relation(label='ANNOUNCED', source_id='Obama', target_id='end of combat operations in Iraq', properties={'title': 'Barack Obama', 'triplet_source_id': '6d4ea1dc-a5ac-4fd9-9dda-4a23b49fc5a2'}),\n",
       "  EntityNode(label='EVENT', embedding=None, properties={'title': 'Barack Obama', 'triplet_source_id': '6d4ea1dc-a5ac-4fd9-9dda-4a23b49fc5a2'}, name='end of combat operations in Iraq')),\n",
       " (EntityNode(label='PERSON', embedding=None, properties={'title': 'Barack Obama', 'triplet_source_id': 'f449e379-cb12-475f-928c-6a93d5aab96d'}, name='Barack Obama'),\n",
       "  Relation(label='HAS_ROOT_IN', source_id='Barack Obama', target_id='Ireland', properties={'title': 'Barack Obama', 'triplet_source_id': '6472d901-3154-4fd7-9bf2-2ee8faefd3fe'}),\n",
       "  EntityNode(label='LOCATION', embedding=None, properties={'title': 'Barack Obama', 'triplet_source_id': '6472d901-3154-4fd7-9bf2-2ee8faefd3fe'}, name='Ireland')),\n",
       " (EntityNode(label='PERSON', embedding=None, properties={'title': 'Barack Obama', 'triplet_source_id': 'f449e379-cb12-475f-928c-6a93d5aab96d'}, name='Barack Obama'),\n",
       "  Relation(label='WROTE', source_id='Barack Obama', target_id='Dreams from My Father', properties={'title': 'Barack Obama', 'triplet_source_id': '6c7a3242-7b91-44f1-8a17-8a0681885f47'}),\n",
       "  EntityNode(label='BOOK', embedding=None, properties={'title': 'Barack Obama', 'triplet_source_id': '6c7a3242-7b91-44f1-8a17-8a0681885f47'}, name='Dreams from My Father')),\n",
       " (EntityNode(label='PERSON', embedding=None, properties={'title': 'Barack Obama', 'triplet_source_id': '2470e600-aecc-4be0-9211-6ed3fcc23bf5'}, name='Obama'),\n",
       "  Relation(label='REPLACED', source_id='Obama', target_id='General David D. McKiernan', properties={'title': 'Barack Obama', 'triplet_source_id': '57a0c2a1-3243-4795-ac38-52955d990c06'}),\n",
       "  EntityNode(label='PERSON', embedding=None, properties={'title': 'Barack Obama', 'triplet_source_id': '57a0c2a1-3243-4795-ac38-52955d990c06'}, name='General David D. McKiernan')),\n",
       " (EntityNode(label='PERSON', embedding=None, properties={'title': 'Barack Obama', 'triplet_source_id': 'f449e379-cb12-475f-928c-6a93d5aab96d'}, name='Barack Obama'),\n",
       "  Relation(label='RECEIVED_AWARD', source_id='Barack Obama', target_id='Nobel Peace Prize 2009', properties={'title': 'Barack Obama', 'triplet_source_id': 'f449e379-cb12-475f-928c-6a93d5aab96d'}),\n",
       "  EntityNode(label='AWARD', embedding=None, properties={'title': 'Barack Obama', 'triplet_source_id': 'f449e379-cb12-475f-928c-6a93d5aab96d'}, name='Nobel Peace Prize 2009')),\n",
       " (EntityNode(label='PERSON', embedding=None, properties={'title': 'Barack Obama', 'triplet_source_id': 'f449e379-cb12-475f-928c-6a93d5aab96d'}, name='Barack Obama'),\n",
       "  Relation(label='HAS_CHILD', source_id='Barack Obama', target_id='Malia Ann Obama', properties={'title': 'Barack Obama', 'triplet_source_id': '6472d901-3154-4fd7-9bf2-2ee8faefd3fe'}),\n",
       "  EntityNode(label='PERSON', embedding=None, properties={'title': 'Barack Obama', 'triplet_source_id': '6472d901-3154-4fd7-9bf2-2ee8faefd3fe'}, name='Malia Ann Obama')),\n",
       " (EntityNode(label='PERSON', embedding=None, properties={'title': 'Barack Obama', 'triplet_source_id': 'f449e379-cb12-475f-928c-6a93d5aab96d'}, name='Barack Obama'),\n",
       "  Relation(label='TEACHES', source_id='Barack Obama', target_id='Constitutional Law', properties={'title': 'Barack Obama', 'triplet_source_id': '6c7a3242-7b91-44f1-8a17-8a0681885f47'}),\n",
       "  EntityNode(label='SUBJECT', embedding=None, properties={'title': 'Barack Obama', 'triplet_source_id': '6c7a3242-7b91-44f1-8a17-8a0681885f47'}, name='Constitutional Law')),\n",
       " (EntityNode(label='PERSON', embedding=None, properties={'title': 'Barack Obama', 'triplet_source_id': '2470e600-aecc-4be0-9211-6ed3fcc23bf5'}, name='Obama'),\n",
       "  Relation(label='RESIGNED_FROM', source_id='Obama', target_id='U.S. Senate', properties={'title': 'Barack Obama', 'triplet_source_id': 'a13c57f4-9a7b-4db3-ad08-752f92a3cb80'}),\n",
       "  EntityNode(label='OFFICE', embedding=None, properties={'title': 'Barack Obama', 'triplet_source_id': 'a13c57f4-9a7b-4db3-ad08-752f92a3cb80'}, name='U.S. Senate')),\n",
       " (EntityNode(label='PERSON', embedding=None, properties={'title': 'Barack Obama', 'triplet_source_id': '2470e600-aecc-4be0-9211-6ed3fcc23bf5'}, name='Obama'),\n",
       "  Relation(label='SIGNED', source_id='Obama', target_id='Affordable Care Act', properties={'title': 'Barack Obama', 'triplet_source_id': '6d4ea1dc-a5ac-4fd9-9dda-4a23b49fc5a2'}),\n",
       "  EntityNode(label='LEGISLATION', embedding=None, properties={'title': 'Barack Obama', 'triplet_source_id': '2470e600-aecc-4be0-9211-6ed3fcc23bf5'}, name='Affordable Care Act')),\n",
       " (EntityNode(label='PERSON', embedding=None, properties={'title': 'Barack Obama', 'triplet_source_id': '2470e600-aecc-4be0-9211-6ed3fcc23bf5'}, name='Obama'),\n",
       "  Relation(label='ANNOUNCED_PLAN', source_id='Obama', target_id='keep U.S. Forces in Afghanistan indefinitely', properties={'title': 'Barack Obama', 'triplet_source_id': '57a0c2a1-3243-4795-ac38-52955d990c06'}),\n",
       "  EntityNode(label='MILITARY_PLAN', embedding=None, properties={'title': 'Barack Obama', 'triplet_source_id': '57a0c2a1-3243-4795-ac38-52955d990c06'}, name='keep U.S. Forces in Afghanistan indefinitely')),\n",
       " (EntityNode(label='PERSON', embedding=None, properties={'title': 'Barack Obama', 'triplet_source_id': 'f449e379-cb12-475f-928c-6a93d5aab96d'}, name='Barack Obama'),\n",
       "  Relation(label='ATTENDED', source_id='Barack Obama', target_id='Punahou School', properties={'title': 'Barack Obama', 'triplet_source_id': '6c7a3242-7b91-44f1-8a17-8a0681885f47'}),\n",
       "  EntityNode(label='SCHOOL', embedding=None, properties={'title': 'Barack Obama', 'triplet_source_id': '6c7a3242-7b91-44f1-8a17-8a0681885f47'}, name='Punahou School')),\n",
       " (EntityNode(label='AWARD', embedding=None, properties={'title': 'Barack Obama', 'triplet_source_id': '2470e600-aecc-4be0-9211-6ed3fcc23bf5'}, name='Nobel Peace Prize'),\n",
       "  Relation(label='AWARDED_TO', source_id='Nobel Peace Prize', target_id='Barack Obama', properties={'title': 'Barack Obama', 'triplet_source_id': '2470e600-aecc-4be0-9211-6ed3fcc23bf5'}),\n",
       "  EntityNode(label='PERSON', embedding=None, properties={'title': 'Barack Obama', 'triplet_source_id': 'f449e379-cb12-475f-928c-6a93d5aab96d'}, name='Barack Obama')),\n",
       " (EntityNode(label='PERSON', embedding=None, properties={'title': 'Barack Obama', 'triplet_source_id': 'f449e379-cb12-475f-928c-6a93d5aab96d'}, name='Barack Obama'),\n",
       "  Relation(label='RECEIVED_AWARD', source_id='Barack Obama', target_id='Ambassador of Humanity Award 2014', properties={'title': 'Barack Obama', 'triplet_source_id': 'f449e379-cb12-475f-928c-6a93d5aab96d'}),\n",
       "  EntityNode(label='AWARD', embedding=None, properties={'title': 'Barack Obama', 'triplet_source_id': 'f449e379-cb12-475f-928c-6a93d5aab96d'}, name='Ambassador of Humanity Award 2014')),\n",
       " (EntityNode(label='PERSON', embedding=None, properties={'title': 'Barack Obama', 'triplet_source_id': 'f449e379-cb12-475f-928c-6a93d5aab96d'}, name='Barack Obama'),\n",
       "  Relation(label='RECEIVED_AWARD', source_id='Barack Obama', target_id='Robert F. Kennedy Ripple of Hope Award 2018', properties={'title': 'Barack Obama', 'triplet_source_id': 'f449e379-cb12-475f-928c-6a93d5aab96d'}),\n",
       "  EntityNode(label='AWARD', embedding=None, properties={'title': 'Barack Obama', 'triplet_source_id': 'f449e379-cb12-475f-928c-6a93d5aab96d'}, name='Robert F. Kennedy Ripple of Hope Award 2018')),\n",
       " (EntityNode(label='PERSON', embedding=None, properties={'title': 'Barack Obama', 'triplet_source_id': 'f449e379-cb12-475f-928c-6a93d5aab96d'}, name='Barack Obama'),\n",
       "  Relation(label='ATTENDED', source_id='Barack Obama', target_id='Occidental College', properties={'title': 'Barack Obama', 'triplet_source_id': '6c7a3242-7b91-44f1-8a17-8a0681885f47'}),\n",
       "  EntityNode(label='EDUCATION_INSTITUTION', embedding=None, properties={'title': 'Barack Obama', 'triplet_source_id': '6c7a3242-7b91-44f1-8a17-8a0681885f47'}, name='Occidental College')),\n",
       " (EntityNode(label='PERSON', embedding=None, properties={'title': 'Barack Obama', 'triplet_source_id': '2470e600-aecc-4be0-9211-6ed3fcc23bf5'}, name='Obama'),\n",
       "  Relation(label='SIGNED', source_id='Obama', target_id='Car Allowance Rebate System', properties={'title': 'Barack Obama', 'triplet_source_id': '881755c6-d342-400d-ad53-f6ef187316d8'}),\n",
       "  EntityNode(label='LEGISLATION', embedding=None, properties={'title': 'Barack Obama', 'triplet_source_id': '881755c6-d342-400d-ad53-f6ef187316d8'}, name='Car Allowance Rebate System')),\n",
       " (EntityNode(label='PERSON', embedding=None, properties={'title': 'Barack Obama', 'triplet_source_id': '2470e600-aecc-4be0-9211-6ed3fcc23bf5'}, name='Obama'),\n",
       "  Relation(label='ESCALATED', source_id='Obama', target_id='drone strikes against militants', properties={'title': 'Barack Obama', 'triplet_source_id': '2470e600-aecc-4be0-9211-6ed3fcc23bf5'}),\n",
       "  EntityNode(label='MILITARY_ACTION', embedding=None, properties={'title': 'Barack Obama', 'triplet_source_id': '2470e600-aecc-4be0-9211-6ed3fcc23bf5'}, name='drone strikes against militants')),\n",
       " (EntityNode(label='PERSON', embedding=None, properties={'title': 'Barack Obama', 'triplet_source_id': 'f449e379-cb12-475f-928c-6a93d5aab96d'}, name='Barack Obama'),\n",
       "  Relation(label='RECEIVED', source_id='Barack Obama', target_id='Primetime Emmy Award for Outstanding Narrator 2022', properties={'title': 'Barack Obama', 'triplet_source_id': 'f449e379-cb12-475f-928c-6a93d5aab96d'}),\n",
       "  EntityNode(label='AWARD', embedding=None, properties={'title': 'Barack Obama', 'triplet_source_id': 'f449e379-cb12-475f-928c-6a93d5aab96d'}, name='Primetime Emmy Award for Outstanding Narrator 2022')),\n",
       " (EntityNode(label='PERSON', embedding=None, properties={'title': 'Barack Obama', 'triplet_source_id': '2470e600-aecc-4be0-9211-6ed3fcc23bf5'}, name='Obama'),\n",
       "  Relation(label='RENEWED', source_id='Obama', target_id='loans for Chrysler', properties={'title': 'Barack Obama', 'triplet_source_id': '881755c6-d342-400d-ad53-f6ef187316d8'}),\n",
       "  EntityNode(label='FINANCIAL_SUPPORT', embedding=None, properties={'title': 'Barack Obama', 'triplet_source_id': '881755c6-d342-400d-ad53-f6ef187316d8'}, name='loans for Chrysler')),\n",
       " (EntityNode(label='PERSON', embedding=None, properties={'title': 'Barack Obama', 'triplet_source_id': '2470e600-aecc-4be0-9211-6ed3fcc23bf5'}, name='Obama'),\n",
       "  Relation(label='ANNOUNCED', source_id='Obama', target_id='2008 presidential candidacy', properties={'title': 'Barack Obama', 'triplet_source_id': 'a13c57f4-9a7b-4db3-ad08-752f92a3cb80'}),\n",
       "  EntityNode(label='EVENT', embedding=None, properties={'title': 'Barack Obama', 'triplet_source_id': 'a13c57f4-9a7b-4db3-ad08-752f92a3cb80'}, name='2008 presidential candidacy')),\n",
       " (EntityNode(label='PERSON', embedding=None, properties={'title': 'Barack Obama', 'triplet_source_id': 'f449e379-cb12-475f-928c-6a93d5aab96d'}, name='Barack Obama'),\n",
       "  Relation(label='LED', source_id='Barack Obama', target_id='Developing Communities Project', properties={'title': 'Barack Obama', 'triplet_source_id': '6c7a3242-7b91-44f1-8a17-8a0681885f47'}),\n",
       "  EntityNode(label='ORGANIZATION', embedding=None, properties={'title': 'Barack Obama', 'triplet_source_id': '6c7a3242-7b91-44f1-8a17-8a0681885f47'}, name='Developing Communities Project')),\n",
       " (EntityNode(label='PERSON', embedding=None, properties={'title': 'Barack Obama', 'triplet_source_id': 'f449e379-cb12-475f-928c-6a93d5aab96d'}, name='Barack Obama'),\n",
       "  Relation(label='LIVED_IN', source_id='Barack Obama', target_id='Indonesia', properties={'title': 'Barack Obama', 'triplet_source_id': '6c7a3242-7b91-44f1-8a17-8a0681885f47'}),\n",
       "  EntityNode(label='LOCATION', embedding=None, properties={'title': 'Barack Obama', 'triplet_source_id': '6c7a3242-7b91-44f1-8a17-8a0681885f47'}, name='Indonesia')),\n",
       " (EntityNode(label='PERSON', embedding=None, properties={'title': 'Barack Obama', 'triplet_source_id': 'f449e379-cb12-475f-928c-6a93d5aab96d'}, name='Barack Obama'),\n",
       "  Relation(label='LIVED_IN', source_id='Barack Obama', target_id='Hyde Park, Chicago', properties={'title': 'Barack Obama', 'triplet_source_id': '6472d901-3154-4fd7-9bf2-2ee8faefd3fe'}),\n",
       "  EntityNode(label='LOCATION', embedding=None, properties={'title': 'Barack Obama', 'triplet_source_id': '6472d901-3154-4fd7-9bf2-2ee8faefd3fe'}, name='Hyde Park, Chicago')),\n",
       " (EntityNode(label='PERSON', embedding=None, properties={'title': 'Barack Obama', 'triplet_source_id': '2470e600-aecc-4be0-9211-6ed3fcc23bf5'}, name='Obama'),\n",
       "  Relation(label='EMPHASIZED_FOCUS_ON', source_id='Obama', target_id='war in Afghanistan', properties={'title': 'Barack Obama', 'triplet_source_id': '57a0c2a1-3243-4795-ac38-52955d990c06'}),\n",
       "  EntityNode(label='CONFLICT', embedding=None, properties={'title': 'Barack Obama', 'triplet_source_id': '57a0c2a1-3243-4795-ac38-52955d990c06'}, name='war in Afghanistan')),\n",
       " (EntityNode(label='PERSON', embedding=None, properties={'title': 'Barack Obama', 'triplet_source_id': 'f449e379-cb12-475f-928c-6a93d5aab96d'}, name='Barack Obama'),\n",
       "  Relation(label='RECEIVED_AWARD', source_id='Barack Obama', target_id='John F. Kennedy Profile in Courage Award 2017', properties={'title': 'Barack Obama', 'triplet_source_id': 'f449e379-cb12-475f-928c-6a93d5aab96d'}),\n",
       "  EntityNode(label='AWARD', embedding=None, properties={'title': 'Barack Obama', 'triplet_source_id': 'f449e379-cb12-475f-928c-6a93d5aab96d'}, name='John F. Kennedy Profile in Courage Award 2017')),\n",
       " (EntityNode(label='PERSON', embedding=None, properties={'title': 'Barack Obama', 'triplet_source_id': 'f449e379-cb12-475f-928c-6a93d5aab96d'}, name='Barack Obama'),\n",
       "  Relation(label='PRESIDENT_OF', source_id='Barack Obama', target_id='United States of America', properties={'title': 'Barack Obama', 'triplet_source_id': '6c7a3242-7b91-44f1-8a17-8a0681885f47'}),\n",
       "  EntityNode(label='COUNTRY', embedding=None, properties={'title': 'Barack Obama', 'triplet_source_id': 'f449e379-cb12-475f-928c-6a93d5aab96d'}, name='United States of America')),\n",
       " (EntityNode(label='PERSON', embedding=None, properties={'title': 'Barack Obama', 'triplet_source_id': 'f449e379-cb12-475f-928c-6a93d5aab96d'}, name='Barack Obama'),\n",
       "  Relation(label='AWARDED', source_id='Barack Obama', target_id='Grammy Award for Best Spoken Word Album 2008', properties={'title': 'Barack Obama', 'triplet_source_id': 'f449e379-cb12-475f-928c-6a93d5aab96d'}),\n",
       "  EntityNode(label='AWARD', embedding=None, properties={'title': 'Barack Obama', 'triplet_source_id': 'f449e379-cb12-475f-928c-6a93d5aab96d'}, name='Grammy Award for Best Spoken Word Album 2008')),\n",
       " (EntityNode(label='PERSON', embedding=None, properties={'title': 'Barack Obama', 'triplet_source_id': 'f449e379-cb12-475f-928c-6a93d5aab96d'}, name='Barack Obama'),\n",
       "  Relation(label='WAS', source_id='Barack Obama', target_id='President of the United States', properties={'title': 'Barack Obama', 'triplet_source_id': 'b265004e-07a6-4240-9895-6207ce68d306'}),\n",
       "  EntityNode(label='OFFICE', embedding=None, properties={'title': 'Barack Obama', 'triplet_source_id': 'b265004e-07a6-4240-9895-6207ce68d306'}, name='President of the United States')),\n",
       " (EntityNode(label='PERSON', embedding=None, properties={'title': 'Barack Obama', 'triplet_source_id': '2470e600-aecc-4be0-9211-6ed3fcc23bf5'}, name='Obama'),\n",
       "  Relation(label='CALLED_FOR', source_id='Obama', target_id='health care reform legislation', properties={'title': 'Barack Obama', 'triplet_source_id': '6d4ea1dc-a5ac-4fd9-9dda-4a23b49fc5a2'}),\n",
       "  EntityNode(label='POLICY', embedding=None, properties={'title': 'Barack Obama', 'triplet_source_id': '6d4ea1dc-a5ac-4fd9-9dda-4a23b49fc5a2'}, name='health care reform legislation')),\n",
       " (EntityNode(label='PERSON', embedding=None, properties={'title': 'Barack Obama', 'triplet_source_id': 'f449e379-cb12-475f-928c-6a93d5aab96d'}, name='Barack Obama'),\n",
       "  Relation(label='RANKED_AS', source_id='Barack Obama', target_id='Fourth most popular president since World War II', properties={'title': 'Barack Obama', 'triplet_source_id': '2470e600-aecc-4be0-9211-6ed3fcc23bf5'}),\n",
       "  EntityNode(label='RANKING', embedding=None, properties={'title': 'Barack Obama', 'triplet_source_id': '2470e600-aecc-4be0-9211-6ed3fcc23bf5'}, name='Fourth most popular president since World War II')),\n",
       " (EntityNode(label='PERSON', embedding=None, properties={'title': 'Barack Obama', 'triplet_source_id': '2470e600-aecc-4be0-9211-6ed3fcc23bf5'}, name='Obama'),\n",
       "  Relation(label='SAID', source_id='Obama', target_id='cannot succeed in Afghanistan without changing Pakistan policy', properties={'title': 'Barack Obama', 'triplet_source_id': '57a0c2a1-3243-4795-ac38-52955d990c06'}),\n",
       "  EntityNode(label='POLICY_STATEMENT', embedding=None, properties={'title': 'Barack Obama', 'triplet_source_id': '57a0c2a1-3243-4795-ac38-52955d990c06'}, name='cannot succeed in Afghanistan without changing Pakistan policy')),\n",
       " (EntityNode(label='PERSON', embedding=None, properties={'title': 'Barack Obama', 'triplet_source_id': '2470e600-aecc-4be0-9211-6ed3fcc23bf5'}, name='Obama'),\n",
       "  Relation(label='RECEIVED', source_id='Obama', target_id='2023 Gallup approval rating of 63 percent', properties={'title': 'Barack Obama', 'triplet_source_id': '2470e600-aecc-4be0-9211-6ed3fcc23bf5'}),\n",
       "  EntityNode(label='POLITICAL_STATISTIC', embedding=None, properties={'title': 'Barack Obama', 'triplet_source_id': '2470e600-aecc-4be0-9211-6ed3fcc23bf5'}, name='2023 Gallup approval rating of 63 percent')),\n",
       " (EntityNode(label='PERSON', embedding=None, properties={'title': 'Barack Obama', 'triplet_source_id': 'f449e379-cb12-475f-928c-6a93d5aab96d'}, name='Barack Obama'),\n",
       "  Relation(label='THREW_FIRST_PITCH', source_id='Barack Obama', target_id='2005 ALCS', properties={'title': 'Barack Obama', 'triplet_source_id': '6472d901-3154-4fd7-9bf2-2ee8faefd3fe'}),\n",
       "  EntityNode(label='EVENT', embedding=None, properties={'title': 'Barack Obama', 'triplet_source_id': '6472d901-3154-4fd7-9bf2-2ee8faefd3fe'}, name='2005 ALCS')),\n",
       " (EntityNode(label='PERSON', embedding=None, properties={'title': 'Barack Obama', 'triplet_source_id': '2470e600-aecc-4be0-9211-6ed3fcc23bf5'}, name='Obama'),\n",
       "  Relation(label='AUTHORIZED', source_id='Obama', target_id='raid to kill Osama bin Laden', properties={'title': 'Barack Obama', 'triplet_source_id': '57a0c2a1-3243-4795-ac38-52955d990c06'}),\n",
       "  EntityNode(label='MILITARY_OPERATION', embedding=None, properties={'title': 'Barack Obama', 'triplet_source_id': '57a0c2a1-3243-4795-ac38-52955d990c06'}, name='raid to kill Osama bin Laden')),\n",
       " (EntityNode(label='PERSON', embedding=None, properties={'title': 'Barack Obama', 'triplet_source_id': '2470e600-aecc-4be0-9211-6ed3fcc23bf5'}, name='Obama'),\n",
       "  Relation(label='RENEWED', source_id='Obama', target_id='loans for General Motors', properties={'title': 'Barack Obama', 'triplet_source_id': '881755c6-d342-400d-ad53-f6ef187316d8'}),\n",
       "  EntityNode(label='FINANCIAL_SUPPORT', embedding=None, properties={'title': 'Barack Obama', 'triplet_source_id': '881755c6-d342-400d-ad53-f6ef187316d8'}, name='loans for General Motors')),\n",
       " (EntityNode(label='PERSON', embedding=None, properties={'title': 'Barack Obama', 'triplet_source_id': '2470e600-aecc-4be0-9211-6ed3fcc23bf5'}, name='Obama'),\n",
       "  Relation(label='CRITICIZED', source_id='Obama', target_id=\"Russia's law discriminating against homosexual people\", properties={'title': 'Barack Obama', 'triplet_source_id': 'b265004e-07a6-4240-9895-6207ce68d306'}),\n",
       "  EntityNode(label='LAW', embedding=None, properties={'title': 'Barack Obama', 'triplet_source_id': 'b265004e-07a6-4240-9895-6207ce68d306'}, name=\"Russia's law discriminating against homosexual people\")),\n",
       " (EntityNode(label='PERSON', embedding=None, properties={'title': 'Barack Obama', 'triplet_source_id': 'f449e379-cb12-475f-928c-6a93d5aab96d'}, name='Barack Obama'),\n",
       "  Relation(label='HAD_JOB_APPROVAL_RATING', source_id='Barack Obama', target_id='68 percent approval rating', properties={'title': 'Barack Obama', 'triplet_source_id': '2470e600-aecc-4be0-9211-6ed3fcc23bf5'}),\n",
       "  EntityNode(label='POLITICAL_STATISTIC', embedding=None, properties={'title': 'Barack Obama', 'triplet_source_id': '2470e600-aecc-4be0-9211-6ed3fcc23bf5'}, name='68 percent approval rating')),\n",
       " (EntityNode(label='PERSON', embedding=None, properties={'title': 'Barack Obama', 'triplet_source_id': 'f449e379-cb12-475f-928c-6a93d5aab96d'}, name='Barack Obama'),\n",
       "  Relation(label='OWNED', source_id='Barack Obama', target_id='Bo', properties={'title': 'Barack Obama', 'triplet_source_id': '6472d901-3154-4fd7-9bf2-2ee8faefd3fe'}),\n",
       "  EntityNode(label='DOG', embedding=None, properties={'title': 'Barack Obama', 'triplet_source_id': '6472d901-3154-4fd7-9bf2-2ee8faefd3fe'}, name='Bo')),\n",
       " (EntityNode(label='PERSON', embedding=None, properties={'title': 'Barack Obama', 'triplet_source_id': 'f449e379-cb12-475f-928c-6a93d5aab96d'}, name='Barack Obama'),\n",
       "  Relation(label='SUPPORTS', source_id='Barack Obama', target_id='Chicago White Sox', properties={'title': 'Barack Obama', 'triplet_source_id': '6472d901-3154-4fd7-9bf2-2ee8faefd3fe'}),\n",
       "  EntityNode(label='SPORTS_TEAM', embedding=None, properties={'title': 'Barack Obama', 'triplet_source_id': '6472d901-3154-4fd7-9bf2-2ee8faefd3fe'}, name='Chicago White Sox')),\n",
       " (EntityNode(label='PERSON', embedding=None, properties={'title': 'Barack Obama', 'triplet_source_id': '2470e600-aecc-4be0-9211-6ed3fcc23bf5'}, name='Obama'),\n",
       "  Relation(label='NOMINATED_BY', source_id='Obama', target_id='Democratic Party', properties={'title': 'Barack Obama', 'triplet_source_id': 'a13c57f4-9a7b-4db3-ad08-752f92a3cb80'}),\n",
       "  EntityNode(label='ORGANIZATION', embedding=None, properties={'title': 'Barack Obama', 'triplet_source_id': 'f449e379-cb12-475f-928c-6a93d5aab96d'}, name='Democratic Party')),\n",
       " (EntityNode(label='PERSON', embedding=None, properties={'title': 'Barack Obama', 'triplet_source_id': '2470e600-aecc-4be0-9211-6ed3fcc23bf5'}, name='Obama'),\n",
       "  Relation(label='ANNOUNCED_REDUCTION', source_id='Obama', target_id='troop level in Afghanistan from 68,000 to 34,000', properties={'title': 'Barack Obama', 'triplet_source_id': '57a0c2a1-3243-4795-ac38-52955d990c06'}),\n",
       "  EntityNode(label='MILITARY_REDUCTION', embedding=None, properties={'title': 'Barack Obama', 'triplet_source_id': '57a0c2a1-3243-4795-ac38-52955d990c06'}, name='troop level in Afghanistan from 68,000 to 34,000')),\n",
       " (EntityNode(label='PERSON', embedding=None, properties={'title': 'Barack Obama', 'triplet_source_id': 'f449e379-cb12-475f-928c-6a93d5aab96d'}, name='Barack Obama'),\n",
       "  Relation(label='SPEAKS', source_id='Barack Obama', target_id='Indonesian', properties={'title': 'Barack Obama', 'triplet_source_id': '6c7a3242-7b91-44f1-8a17-8a0681885f47'}),\n",
       "  EntityNode(label='LANGUAGE', embedding=None, properties={'title': 'Barack Obama', 'triplet_source_id': '6c7a3242-7b91-44f1-8a17-8a0681885f47'}, name='Indonesian')),\n",
       " (EntityNode(label='PERSON', embedding=None, properties={'title': 'Barack Obama', 'triplet_source_id': '2470e600-aecc-4be0-9211-6ed3fcc23bf5'}, name='Obama'),\n",
       "  Relation(label='OPPOSED', source_id='Obama', target_id='2003 invasion of Iraq', properties={'title': 'Barack Obama', 'triplet_source_id': 'a13c57f4-9a7b-4db3-ad08-752f92a3cb80'}),\n",
       "  EntityNode(label='EVENT', embedding=None, properties={'title': 'Barack Obama', 'triplet_source_id': 'a13c57f4-9a7b-4db3-ad08-752f92a3cb80'}, name='2003 invasion of Iraq')),\n",
       " (EntityNode(label='PERSON', embedding=None, properties={'title': 'Barack Obama', 'triplet_source_id': '2470e600-aecc-4be0-9211-6ed3fcc23bf5'}, name='Obama'),\n",
       "  Relation(label='SIGNED', source_id='Obama', target_id='Dodd-Frank Wall Street Reform and Consumer Protection Act', properties={'title': 'Barack Obama', 'triplet_source_id': '2470e600-aecc-4be0-9211-6ed3fcc23bf5'}),\n",
       "  EntityNode(label='LEGISLATION', embedding=None, properties={'title': 'Barack Obama', 'triplet_source_id': '2470e600-aecc-4be0-9211-6ed3fcc23bf5'}, name='Dodd-Frank Wall Street Reform and Consumer Protection Act')),\n",
       " (EntityNode(label='PERSON', embedding=None, properties={'title': 'Barack Obama', 'triplet_source_id': 'f449e379-cb12-475f-928c-6a93d5aab96d'}, name='Barack Obama'),\n",
       "  Relation(label='WON', source_id='Barack Obama', target_id='Sylvanus Thayer Award 2024', properties={'title': 'Barack Obama', 'triplet_source_id': 'f449e379-cb12-475f-928c-6a93d5aab96d'}),\n",
       "  EntityNode(label='HONOR', embedding=None, properties={'title': 'Barack Obama', 'triplet_source_id': 'f449e379-cb12-475f-928c-6a93d5aab96d'}, name='Sylvanus Thayer Award 2024')),\n",
       " (EntityNode(label='PERSON', embedding=None, properties={'title': 'Barack Obama', 'triplet_source_id': '2470e600-aecc-4be0-9211-6ed3fcc23bf5'}, name='Obama'),\n",
       "  Relation(label='INTRODUCED', source_id='Obama', target_id='Lugar–Obama legislation', properties={'title': 'Barack Obama', 'triplet_source_id': 'a13c57f4-9a7b-4db3-ad08-752f92a3cb80'}),\n",
       "  EntityNode(label='LEGISLATION', embedding=None, properties={'title': 'Barack Obama', 'triplet_source_id': 'a13c57f4-9a7b-4db3-ad08-752f92a3cb80'}, name='Lugar–Obama legislation')),\n",
       " (EntityNode(label='PERSON', embedding=None, properties={'title': 'Barack Obama', 'triplet_source_id': '2470e600-aecc-4be0-9211-6ed3fcc23bf5'}, name='Obama'),\n",
       "  Relation(label='INTERVENED_IN', source_id='Obama', target_id='automotive industry', properties={'title': 'Barack Obama', 'triplet_source_id': '881755c6-d342-400d-ad53-f6ef187316d8'}),\n",
       "  EntityNode(label='INDUSTRY', embedding=None, properties={'title': 'Barack Obama', 'triplet_source_id': '881755c6-d342-400d-ad53-f6ef187316d8'}, name='automotive industry')),\n",
       " (EntityNode(label='PERSON', embedding=None, properties={'title': 'Barack Obama', 'triplet_source_id': '2470e600-aecc-4be0-9211-6ed3fcc23bf5'}, name='Obama'),\n",
       "  Relation(label='PASSED', source_id='Obama', target_id='Affordable Care Act (ACA)', properties={'title': 'Barack Obama', 'triplet_source_id': '2470e600-aecc-4be0-9211-6ed3fcc23bf5'}),\n",
       "  EntityNode(label='LEGISLATION', embedding=None, properties={'title': 'Barack Obama', 'triplet_source_id': '2470e600-aecc-4be0-9211-6ed3fcc23bf5'}, name='Affordable Care Act (ACA)')),\n",
       " (EntityNode(label='PERSON', embedding=None, properties={'title': 'Barack Obama', 'triplet_source_id': 'f449e379-cb12-475f-928c-6a93d5aab96d'}, name='Barack Obama'),\n",
       "  Relation(label='AWARDED', source_id='Barack Obama', target_id='Grammy Award for Best Spoken Word Album 2006', properties={'title': 'Barack Obama', 'triplet_source_id': 'f449e379-cb12-475f-928c-6a93d5aab96d'}),\n",
       "  EntityNode(label='AWARD', embedding=None, properties={'title': 'Barack Obama', 'triplet_source_id': 'f449e379-cb12-475f-928c-6a93d5aab96d'}, name='Grammy Award for Best Spoken Word Album 2006')),\n",
       " (EntityNode(label='PERSON', embedding=None, properties={'title': 'Barack Obama', 'triplet_source_id': '2470e600-aecc-4be0-9211-6ed3fcc23bf5'}, name='Obama'),\n",
       "  Relation(label='RECEIVED', source_id='Obama', target_id='2018 Gallup approval rating of 63 percent', properties={'title': 'Barack Obama', 'triplet_source_id': '2470e600-aecc-4be0-9211-6ed3fcc23bf5'}),\n",
       "  EntityNode(label='POLITICAL_STATISTIC', embedding=None, properties={'title': 'Barack Obama', 'triplet_source_id': '2470e600-aecc-4be0-9211-6ed3fcc23bf5'}, name='2018 Gallup approval rating of 63 percent')),\n",
       " (EntityNode(label='PERSON', embedding=None, properties={'title': 'Barack Obama', 'triplet_source_id': 'f449e379-cb12-475f-928c-6a93d5aab96d'}, name='Barack Obama'),\n",
       "  Relation(label='MET', source_id='Barack Obama', target_id='Michelle Robinson', properties={'title': 'Barack Obama', 'triplet_source_id': '6472d901-3154-4fd7-9bf2-2ee8faefd3fe'}),\n",
       "  EntityNode(label='PERSON', embedding=None, properties={'title': 'Barack Obama', 'triplet_source_id': '6472d901-3154-4fd7-9bf2-2ee8faefd3fe'}, name='Michelle Robinson'))]"
      ]
     },
     "execution_count": 32,
     "metadata": {},
     "output_type": "execute_result"
    }
   ],
   "source": [
    "kg_extractor = DynamicLLMPathExtractor(\n",
    "    llm=llm,\n",
    "    max_triplets_per_chunk=20,\n",
    "    num_workers=4,\n",
    "    # Let the LLM infer entities and their labels (types) on the fly\n",
    "    allowed_entity_types=None,\n",
    "    # Let the LLM infer relationships on the fly\n",
    "    allowed_relation_types=None,\n",
    "    # LLM will generate any entity properties, set `None` to skip property generation (will be faster without)\n",
    "    allowed_relation_props=[],\n",
    "    # LLM will generate any relation properties, set `None` to skip property generation (will be faster without)\n",
    "    allowed_entity_props=[],\n",
    ")\n",
    "\n",
    "dynamic_index = PropertyGraphIndex.from_documents(\n",
    "    [document],\n",
    "    llm=llm,\n",
    "    embed_kg_nodes=False,\n",
    "    kg_extractors=[kg_extractor],\n",
    "    show_progress=True,\n",
    ")\n",
    "\n",
    "dynamic_index.property_graph_store.save_networkx_graph(\n",
    "    name=\"./DynamicGraph.html\"\n",
    ")\n",
    "\n",
    "dynamic_index.property_graph_store.get_triplets(\n",
    "    entity_names=[\"Barack Obama\", \"Obama\"]\n",
    ")"
   ]
  },
  {
   "cell_type": "markdown",
   "id": "17502d4a",
   "metadata": {},
   "source": [
    "### With initial ontology for guided KG extraction :\n",
    "\n",
    "Here, we have partial knowledge of what we want to detect, we know the article is about Barack Obama, so we define some entities and relations that could help guide the LLM in the labeling process as it detects the entities and relations. This doesn't guarantee that the LLM will use them, it simply guides it and gives it some ideas. It will still be up to the LLM to decide whether it uses the entities and relations we provide or not.\n"
   ]
  },
  {
   "cell_type": "code",
   "execution_count": null,
   "id": "4ba4c3d5",
   "metadata": {},
   "outputs": [
    {
     "name": "stderr",
     "output_type": "stream",
     "text": [
      "Parsing nodes: 100%|██████████| 1/1 [00:00<00:00, 47.63it/s]\n",
      "Extracting and inferring knowledge graph from text:  64%|██████▎   | 7/11 [00:23<00:12,  3.01s/it]"
     ]
    },
    {
     "name": "stdout",
     "output_type": "stream",
     "text": [
      "Error during extraction: 1 validation error for EntityNode\n",
      "name\n",
      "  Input should be a valid string [type=string_type, input_value=['Joe Biden', 'Valerie Jarrett'], input_type=list]\n",
      "    For further information visit https://errors.pydantic.dev/2.11/v/string_type\n"
     ]
    },
    {
     "name": "stderr",
     "output_type": "stream",
     "text": [
      "Extracting and inferring knowledge graph from text: 100%|██████████| 11/11 [00:46<00:00,  4.22s/it]\n"
     ]
    },
    {
     "data": {
      "text/plain": [
       "[(EntityNode(label='POLITICIAN', embedding=None, properties={'title': 'Barack Obama', 'triplet_source_id': 'c53fbaad-027f-4c86-87e8-8a68ef7d0a62'}, name='Obama'),\n",
       "  Relation(label='HAILED', source_id='Obama', target_id='the agreement', properties={'title': 'Barack Obama', 'triplet_source_id': 'c53fbaad-027f-4c86-87e8-8a68ef7d0a62'}),\n",
       "  EntityNode(label='POLITICAL_AGREEMENT', embedding=None, properties={'title': 'Barack Obama', 'triplet_source_id': 'c53fbaad-027f-4c86-87e8-8a68ef7d0a62'}, name='the agreement')),\n",
       " (EntityNode(label='POLITICIAN', embedding=None, properties={'title': 'Barack Obama', 'triplet_source_id': '9b6db1b1-c989-4ef3-93d8-7fe907887cd5'}, name='Barack Obama'),\n",
       "  Relation(label='FAMILY_MEMBER', source_id='Barack Obama', target_id='Maya Soetoro-Ng', properties={'title': 'Barack Obama', 'triplet_source_id': 'b193b503-8127-4e7f-a35f-92aaf4c2d41f'}),\n",
       "  EntityNode(label='PERSON', embedding=None, properties={'title': 'Barack Obama', 'triplet_source_id': 'b193b503-8127-4e7f-a35f-92aaf4c2d41f'}, name='Maya Soetoro-Ng')),\n",
       " (EntityNode(label='POLITICIAN', embedding=None, properties={'title': 'Barack Obama', 'triplet_source_id': '9b6db1b1-c989-4ef3-93d8-7fe907887cd5'}, name='Barack Obama'),\n",
       "  Relation(label='OWNED', source_id='Barack Obama', target_id='House in Kenwood, Chicago', properties={'title': 'Barack Obama', 'triplet_source_id': 'b193b503-8127-4e7f-a35f-92aaf4c2d41f'}),\n",
       "  EntityNode(label='PROPERTY', embedding=None, properties={'title': 'Barack Obama', 'triplet_source_id': 'b193b503-8127-4e7f-a35f-92aaf4c2d41f'}, name='House in Kenwood, Chicago')),\n",
       " (EntityNode(label='POLITICIAN', embedding=None, properties={'title': 'Barack Obama', 'triplet_source_id': '9b6db1b1-c989-4ef3-93d8-7fe907887cd5'}, name='Barack Obama'),\n",
       "  Relation(label='ESTIMATED_NET_WORTH', source_id='Barack Obama', target_id='$1.3 million (2007)', properties={'title': 'Barack Obama', 'triplet_source_id': 'b193b503-8127-4e7f-a35f-92aaf4c2d41f'}),\n",
       "  EntityNode(label='MONEY_AMOUNT', embedding=None, properties={'title': 'Barack Obama', 'triplet_source_id': 'b193b503-8127-4e7f-a35f-92aaf4c2d41f'}, name='$1.3 million (2007)')),\n",
       " (EntityNode(label='AWARD', embedding=None, properties={'title': 'Barack Obama', 'triplet_source_id': '9b6db1b1-c989-4ef3-93d8-7fe907887cd5'}, name='Ambassador of Humanity Award'),\n",
       "  Relation(label='AWARDED_TO', source_id='Ambassador of Humanity Award', target_id='Barack Obama', properties={'title': 'Barack Obama', 'triplet_source_id': '9b6db1b1-c989-4ef3-93d8-7fe907887cd5'}),\n",
       "  EntityNode(label='POLITICIAN', embedding=None, properties={'title': 'Barack Obama', 'triplet_source_id': '9b6db1b1-c989-4ef3-93d8-7fe907887cd5'}, name='Barack Obama'))]"
      ]
     },
     "execution_count": 33,
     "metadata": {},
     "output_type": "execute_result"
    }
   ],
   "source": [
    "kg_extractor = DynamicLLMPathExtractor(\n",
    "    llm=llm,\n",
    "    max_triplets_per_chunk=20,\n",
    "    num_workers=4,\n",
    "    allowed_entity_types=[\"POLITICIAN\", \"POLITICAL_PARTY\"],\n",
    "    allowed_relation_types=[\"PRESIDENT_OF\", \"MEMBER_OF\"],\n",
    "    allowed_relation_props=[\"description\"],\n",
    "    allowed_entity_props=[\"description\"],\n",
    ")\n",
    "\n",
    "dynamic_index_2 = PropertyGraphIndex.from_documents(\n",
    "    [document],\n",
    "    llm=llm,\n",
    "    embed_kg_nodes=False,\n",
    "    kg_extractors=[kg_extractor],\n",
    "    show_progress=True,\n",
    ")\n",
    "\n",
    "dynamic_index_2.property_graph_store.save_networkx_graph(\n",
    "    name=\"./DynamicGraph2.html\"\n",
    ")\n",
    "dynamic_index_2.property_graph_store.get_triplets(\n",
    "    entity_names=[\"Barack Obama\", \"Obama\"]\n",
    ")[:5]\n"
   ]
  },
  {
   "cell_type": "markdown",
   "id": "ee529274",
   "metadata": {},
   "source": [
    "## 4. SchemaLLMPathExtractor¶\n"
   ]
  },
  {
   "cell_type": "code",
   "execution_count": 35,
   "id": "c2469f96",
   "metadata": {},
   "outputs": [],
   "source": [
    "from typing import Literal\n",
    "\n",
    "# best practice to use upper-case\n",
    "entities = Literal[\"PERSON\", \"PLACE\", \"ORGANIZATION\"]\n",
    "relations = Literal[\"HAS\", \"PART_OF\", \"WORKED_ON\", \"WORKED_WITH\", \"WORKED_AT\"]\n",
    "\n",
    "# define which entities can have which relations\n",
    "validation_schema = {\n",
    "    \"PERSON\": [\"HAS\", \"PART_OF\", \"WORKED_ON\", \"WORKED_WITH\", \"WORKED_AT\"],\n",
    "    \"PLACE\": [\"HAS\", \"PART_OF\", \"WORKED_AT\"],\n",
    "    \"ORGANIZATION\": [\"HAS\", \"PART_OF\", \"WORKED_WITH\"],\n",
    "}\n"
   ]
  },
  {
   "cell_type": "code",
   "execution_count": 39,
   "id": "64af8e90",
   "metadata": {},
   "outputs": [
    {
     "name": "stderr",
     "output_type": "stream",
     "text": [
      "Parsing nodes: 100%|██████████| 1/1 [00:00<00:00, 48.86it/s]\n",
      "Extracting paths from text with schema: 100%|██████████| 11/11 [00:28<00:00,  2.60s/it]\n"
     ]
    },
    {
     "data": {
      "text/plain": [
       "[(EntityNode(label='PERSON', embedding=None, properties={'title': 'Barack Obama', 'triplet_source_id': '062e0aaa-4f46-425d-bcaf-936c75bad72d'}, name='Barack Obama'),\n",
       "  Relation(label='WORKED_ON', source_id='Barack Obama', target_id='Patriot Act', properties={'title': 'Barack Obama', 'triplet_source_id': '5bfdfbda-477a-4bad-98fa-0657c187e9ee'}),\n",
       "  EntityNode(label='ORGANIZATION', embedding=None, properties={'title': 'Barack Obama', 'triplet_source_id': '5bfdfbda-477a-4bad-98fa-0657c187e9ee'}, name='Patriot Act')),\n",
       " (EntityNode(label='PERSON', embedding=None, properties={'title': 'Barack Obama', 'triplet_source_id': '4a0ac04e-9b2b-4600-a0ec-d8da67465b7b'}, name='Barack Obama Sr.'),\n",
       "  Relation(label='HAS', source_id='Barack Obama Sr.', target_id='Barack Obama', properties={'title': 'Barack Obama', 'triplet_source_id': '4a0ac04e-9b2b-4600-a0ec-d8da67465b7b'}),\n",
       "  EntityNode(label='PERSON', embedding=None, properties={'title': 'Barack Obama', 'triplet_source_id': '062e0aaa-4f46-425d-bcaf-936c75bad72d'}, name='Barack Obama')),\n",
       " (EntityNode(label='PERSON', embedding=None, properties={'title': 'Barack Obama', 'triplet_source_id': '062e0aaa-4f46-425d-bcaf-936c75bad72d'}, name='Barack Obama'),\n",
       "  Relation(label='WORKED_AT', source_id='Barack Obama', target_id='Harvard Law School', properties={'title': 'Barack Obama', 'triplet_source_id': '6a99024a-89bb-439a-a2ce-3f5afa0a8ebb'}),\n",
       "  EntityNode(label='ORGANIZATION', embedding=None, properties={'title': 'Barack Obama', 'triplet_source_id': '6a99024a-89bb-439a-a2ce-3f5afa0a8ebb'}, name='Harvard Law School')),\n",
       " (EntityNode(label='PERSON', embedding=None, properties={'title': 'Barack Obama', 'triplet_source_id': '062e0aaa-4f46-425d-bcaf-936c75bad72d'}, name='Barack Obama'),\n",
       "  Relation(label='WORKED_ON', source_id='Barack Obama', target_id='Paris Agreement', properties={'title': 'Barack Obama', 'triplet_source_id': '4a0ac04e-9b2b-4600-a0ec-d8da67465b7b'}),\n",
       "  EntityNode(label='ORGANIZATION', embedding=None, properties={'title': 'Barack Obama', 'triplet_source_id': '4a0ac04e-9b2b-4600-a0ec-d8da67465b7b'}, name='Paris Agreement')),\n",
       " (EntityNode(label='PERSON', embedding=None, properties={'title': 'Barack Obama', 'triplet_source_id': '062e0aaa-4f46-425d-bcaf-936c75bad72d'}, name='Barack Obama'),\n",
       "  Relation(label='HAS', source_id='Barack Obama', target_id='Indonesia', properties={'title': 'Barack Obama', 'triplet_source_id': '6a99024a-89bb-439a-a2ce-3f5afa0a8ebb'}),\n",
       "  EntityNode(label='PLACE', embedding=None, properties={'title': 'Barack Obama', 'triplet_source_id': '6a99024a-89bb-439a-a2ce-3f5afa0a8ebb'}, name='Indonesia'))]"
      ]
     },
     "execution_count": 39,
     "metadata": {},
     "output_type": "execute_result"
    }
   ],
   "source": [
    "kg_extractor = SchemaLLMPathExtractor(\n",
    "    llm=llm,\n",
    "    max_triplets_per_chunk=20,\n",
    "    strict=True,  # Set to False to showcase why it's not going to be the same as DynamicLLMPathExtractor\n",
    "    possible_entities=entities,\n",
    "    possible_relations=relations,\n",
    "    kg_validation_schema=validation_schema,\n",
    "    possible_relation_props=None,\n",
    "    possible_entity_props=None,\n",
    "    num_workers=4,\n",
    ")\n",
    "\n",
    "schema_index = PropertyGraphIndex.from_documents(\n",
    "    [document],\n",
    "    llm=llm,\n",
    "    embed_kg_nodes=False,\n",
    "    kg_extractors=[kg_extractor],\n",
    "    show_progress=True,\n",
    ")\n",
    "\n",
    "schema_index.property_graph_store.save_networkx_graph(\n",
    "    name=\"./SchemaGraph.html\"\n",
    ")\n",
    "schema_index.property_graph_store.get_triplets(\n",
    "    entity_names=[\"Barack Obama\", \"Obama\"]\n",
    ")[:5]"
   ]
  },
  {
   "cell_type": "markdown",
   "id": "bcb2fa16",
   "metadata": {},
   "source": [
    "## 5. Observations\n"
   ]
  },
  {
   "cell_type": "markdown",
   "id": "10af4f51",
   "metadata": {},
   "source": [
    "### Comparison and Analysis\n",
    "\n",
    "Let's compare the results of the three extractors:\n",
    "\n",
    "- `SimpleLLMPathExtractor`: This extractor creates a basic knowledge graph without any predefined schema. It may produce a larger number of diverse relationships but might lack consistency in entity and relation naming.\n",
    "- `DynamicLLMPathExtractor`:\n",
    "  - This new extractor combines the flexibility of SimpleLLMPathExtractor with some initial guidance from a schema. It can expand beyond the initial entity and relation types, potentially producing a rich and diverse graph while maintaining some level of consistency.\n",
    "  - Not giving it any entities or relations to start with in the input gives the LLM complete freedom to infer the schema on the fly as it best sees fit. This is going to vary based on the LLM and the temperature used.\n",
    "- `SchemaLLMPathExtractor`: With a predefined schema, this extractor produces a more structured graph. The entities and relations are limited to those specified in the schema, which can lead to a more consistent but potentially less comprehensive graph. Even if we set \"strict\" to false, the extracted KG Graph doesn't reflect the LLM's pursuit of trying to find new entities and types that fall outside of the input schema's scope.\n"
   ]
  },
  {
   "cell_type": "markdown",
   "id": "57f2b0bc",
   "metadata": {},
   "source": [
    "### Key observations:\n",
    "\n",
    "- The SimpleLLMPathExtractor graph might have the most diverse set of entities and relations.\n",
    "- The SchemaLLMPathExtractor graph should be the most consistent but might miss a lot of relationships that don't fit the predefined schema, even if we don't impose a strict validation of the schema.\n",
    "- The DynamicLLMPathExtractor graph should show a balance between diversity and consistency, potentially capturing important relationships that the schema-based approach might miss while still maintaining some structure.\n",
    "\n",
    "### The choice between these extractors depends on the specific use case:\n",
    "\n",
    "- Use SimpleLLMPathExtractor for exploratory analysis where you want to capture a wide range of potential relationships for RAG applications, without caring about the entity types.\n",
    "- Use SchemaLLMPathExtractor when you have a well-defined domain and want to ensure consistency in the extracted knowledge.\n",
    "- Use DynamicLLMPathExtractor when you want a balance between structure and flexibility, allowing the model to discover new entity and relation types while still providing some initial guidance. This one is especially useful if you want a KG with labeled (typed) entities but don't have an input Schema (or you've partially defined the schema as a starting base).\n"
   ]
  },
  {
   "cell_type": "markdown",
   "id": "883de9fa",
   "metadata": {},
   "source": [
    "## 6. Querying\n"
   ]
  },
  {
   "cell_type": "code",
   "execution_count": 40,
   "id": "e66b65b0",
   "metadata": {},
   "outputs": [],
   "source": [
    "from llama_index.embeddings.openai import OpenAIEmbedding\n",
    "\n",
    "embed_model = OpenAIEmbedding(model=\"text-embedding-3-large\")"
   ]
  },
  {
   "cell_type": "code",
   "execution_count": 41,
   "id": "87751135",
   "metadata": {},
   "outputs": [],
   "source": [
    "from llama_index.core.indices.property_graph import (\n",
    "    LLMSynonymRetriever,\n",
    "    VectorContextRetriever,\n",
    ")\n",
    "\n",
    "\n",
    "llm_synonym = LLMSynonymRetriever(\n",
    "    dynamic_index_2.property_graph_store,\n",
    "    llm=llm,\n",
    "    include_text=False,\n",
    ")\n",
    "vector_context = VectorContextRetriever(\n",
    "    dynamic_index_2.property_graph_store,\n",
    "    embed_model=embed_model,\n",
    "    include_text=True,\n",
    ")"
   ]
  },
  {
   "cell_type": "code",
   "execution_count": 42,
   "id": "683c2822",
   "metadata": {},
   "outputs": [],
   "source": [
    "retriever = dynamic_index_2.as_retriever(\n",
    "    sub_retrievers=[\n",
    "        llm_synonym,\n",
    "        vector_context,\n",
    "    ]\n",
    ")"
   ]
  },
  {
   "cell_type": "code",
   "execution_count": 45,
   "id": "cee25032",
   "metadata": {},
   "outputs": [
    {
     "name": "stdout",
     "output_type": "stream",
     "text": [
      "Obama -> HAILED -> the agreement\n",
      "Obama -> RECOGNIZED -> celebrations across the US\n",
      "Dmitry Medvedev -> REACHED_AGREEMENT_WITH -> Obama\n",
      "New START treaty -> SIGNED_BY -> Obama\n",
      "Obama -> APPOINTED -> Timothy Geithner\n",
      "Obama -> STARTED -> nuclear arms buildup program\n",
      "Obama -> SERVED_ON_COMMITTEE -> Foreign Relations Committee\n",
      "Obama -> CALLED_WAR_IN_IRAQ_A_DANGEROUS_DISTRACTION -> War in Iraq\n",
      "Obama -> PLANNED_TO_KEEP -> U.S. Forces in Afghanistan indefinitely\n",
      "Obama administration -> WENT_AHEAD_WITH -> Bush administration program\n",
      "Obama -> REPLACED_McChrystal -> David Petraeus\n",
      "Obama -> EXPANDED -> federal lands and waters\n",
      "Obama -> AUTHORIZED -> support to Saudi Arabia in Yemen\n",
      "Obama -> SIGNED -> Budget Control Act of 2011\n",
      "Obama -> WON -> 2008 Presidential Election\n",
      "Obama -> ENDORSED -> Joe Biden\n",
      "Obama -> ELECTED_AS -> President of the United States\n",
      "Obama -> MADE_FIRST_DAY_DECISION -> Order withdrawal from Iraq\n",
      "Obama -> CRITICIZED -> Russia's law discriminating against homosexuals\n",
      "Obama -> REPLACED_COMMANDER -> General David D. McKiernan\n",
      "Obama -> CREATED -> 25 new national monuments\n",
      "Obama -> PROPOSED -> health care reform legislation\n",
      "Obama -> DELIVERED -> speech at Cairo University\n",
      "Obama -> SPONSORED_LEGISLATION -> Federal Funding Accountability and Transparency Act of 2006\n",
      "Obama -> WON -> Audio Publishers Association Award\n",
      "Obama -> VETOED -> Keystone XL pipeline bill\n",
      "Obama -> PRESIDENT_OF -> United States of America\n",
      "Obama -> CRITICIZED -> President Trump\n",
      "Obama administration -> SAID -> cash payment of $1.7 billion to Iran\n",
      "Obama -> ORDERED -> drone strike in Yemen\n"
     ]
    }
   ],
   "source": [
    "nodes = retriever.retrieve(\"Who is Barack Obama?\")\n",
    "\n",
    "for node in nodes:\n",
    "    print(node.text)"
   ]
  },
  {
   "cell_type": "markdown",
   "id": "aa3c5161",
   "metadata": {},
   "source": [
    "We can also create a query engine with similar syntax.\n"
   ]
  },
  {
   "cell_type": "code",
   "execution_count": 50,
   "id": "2d9135e7",
   "metadata": {},
   "outputs": [
    {
     "name": "stdout",
     "output_type": "stream",
     "text": [
      "Barack Obama is the President of the United States of America who won the 2008 Presidential Election and was elected as President. He signed the New START treaty, appointed Timothy Geithner, and endorsed Joe Biden. He made significant decisions such as ordering the withdrawal from Iraq on his first day, proposing health care reform legislation, and signing the Budget Control Act of 2011. Obama also created 25 new national monuments, expanded federal lands and waters, and sponsored the Federal Funding Accountability and Transparency Act of 2006. He served on the Foreign Relations Committee, delivered a speech at Cairo University, and won the Audio Publishers Association Award. Obama authorized support to Saudi Arabia in Yemen, ordered a drone strike in Yemen, and replaced military commanders including General David D. McKiernan and David Petraeus. He criticized Russia's law discriminating against homosexuals and President Trump, and vetoed the Keystone XL pipeline bill. Obama hailed an agreement, recognized celebrations across the US, and reached an agreement with Dmitry Medvedev. He also planned to keep U.S. forces in Afghanistan indefinitely and called the war in Iraq a dangerous distraction. The Obama administration continued a Bush administration program and made a cash payment of $1.7 billion to Iran.\n"
     ]
    }
   ],
   "source": [
    "query_engine = dynamic_index_2.as_query_engine(\n",
    "    sub_retrievers=[\n",
    "        llm_synonym,\n",
    "        vector_context,\n",
    "    ],\n",
    "    llm=OpenAI(model=\"gpt-4.1\"),\n",
    ")\n",
    "\n",
    "response = query_engine.query(\"Who is Barack Obama?\")\n",
    "\n",
    "print(str(response))"
   ]
  },
  {
   "cell_type": "code",
   "execution_count": 51,
   "id": "95c1b056",
   "metadata": {},
   "outputs": [
    {
     "name": "stdout",
     "output_type": "stream",
     "text": [
      "Barack Obama worked as President of the United States of America and served on the Foreign Relations Committee.\n"
     ]
    }
   ],
   "source": [
    "response = query_engine.query(\"Where did Barack Obama work?\")\n",
    "\n",
    "print(str(response))"
   ]
  },
  {
   "cell_type": "code",
   "execution_count": 52,
   "id": "af3ceffc",
   "metadata": {},
   "outputs": [
    {
     "name": "stdout",
     "output_type": "stream",
     "text": [
      "There is no information provided about where Barack Obama studied.\n"
     ]
    }
   ],
   "source": [
    "response = query_engine.query(\"Where did Barack Obama study?\")\n",
    "\n",
    "print(str(response))"
   ]
  }
 ],
 "metadata": {
  "kernelspec": {
   "display_name": ".venv",
   "language": "python",
   "name": "python3"
  },
  "language_info": {
   "codemirror_mode": {
    "name": "ipython",
    "version": 3
   },
   "file_extension": ".py",
   "mimetype": "text/x-python",
   "name": "python",
   "nbconvert_exporter": "python",
   "pygments_lexer": "ipython3",
   "version": "3.12.7"
  }
 },
 "nbformat": 4,
 "nbformat_minor": 5
}
